{
 "cells": [
  {
   "cell_type": "raw",
   "id": "7162988f-8f6f-401b-ae86-fae6af43ac3d",
   "metadata": {},
   "source": [
    "Q1. Create one variable containing following type of data:\n",
    "(i) string\n",
    "(ii) list\n",
    "(iii) float\n",
    "(iv) tuple"
   ]
  },
  {
   "cell_type": "code",
   "execution_count": 2,
   "id": "10065df3-0960-46d1-a846-54468434cc4e",
   "metadata": {},
   "outputs": [],
   "source": [
    "# (i) String\n",
    "my_string = \"Hello, World!\"\n",
    "\n",
    "# (ii) List\n",
    "my_list = [1, 2, 3, 4, 5]\n",
    "\n",
    "# (iii) Float\n",
    "my_float = 3.14\n",
    "\n",
    "# (iv) Tuple\n",
    "my_tuple = (1, 2, 3, 4, 5)\n"
   ]
  },
  {
   "cell_type": "raw",
   "id": "aa318b89-b328-46be-8a74-7a7613cf51bc",
   "metadata": {},
   "source": [
    "Q2. Given are some following variables containing data:\n",
    "(i) var1 = ‘ ‘\n",
    "(ii) var2 = ‘[ DS , ML , Python]’\n",
    "(iii) var3 = [ ‘DS’ , ’ML’ , ‘Python’ ]\n",
    "(iv) var4 = 1."
   ]
  },
  {
   "cell_type": "raw",
   "id": "4db5faa0-3dc2-4bea-a0e4-bf9c6b377df0",
   "metadata": {},
   "source": [
    "(i) var1 = ' ': var1 is a string variable assigned an empty string value.\n",
    "\n",
    "(ii) var2 = '[ DS , ML , Python]': var2 is a string variable assigned a string value '[ DS , ML , Python]'. Note that the string contains spaces, commas, and square brackets, which are considered part of the string and not individual elements.\n",
    "\n",
    "(iii) var3 = ['DS', 'ML', 'Python']: var3 is a list variable assigned a list value ['DS', 'ML', 'Python']. The list contains three string elements: 'DS', 'ML', and 'Python'.\n",
    "\n",
    "(iv) var4 = 1.0: var4 is a float variable assigned a float value 1.0."
   ]
  },
  {
   "cell_type": "raw",
   "id": "70892353-a001-4078-9253-274c74f8fb38",
   "metadata": {},
   "source": [
    "Q3. Explain the use of the following operators using an example:\n",
    "(i) /\n",
    "(ii) %\n",
    "(iii) //\n",
    "(iv) **"
   ]
  },
  {
   "cell_type": "raw",
   "id": "c3973cb9-9712-4150-8f5e-7bc9c09404ac",
   "metadata": {},
   "source": [
    "(i) / (Division Operator):\n",
    "The / operator is used for division. It performs floating-point division and returns the quotient of the division operation."
   ]
  },
  {
   "cell_type": "code",
   "execution_count": 4,
   "id": "a19513dc-7d7e-4a02-83eb-800d10332a95",
   "metadata": {},
   "outputs": [
    {
     "name": "stdout",
     "output_type": "stream",
     "text": [
      "3.3333333333333335\n"
     ]
    }
   ],
   "source": [
    "a = 10\n",
    "b = 3\n",
    "result = a / b\n",
    "print(result)  # Output: 3.3333333333333335\n"
   ]
  },
  {
   "cell_type": "raw",
   "id": "804c7f39-78b6-4809-82f3-6ba5365934b9",
   "metadata": {},
   "source": [
    "(ii) % (Modulo Operator):\n",
    "The % operator is used for the modulo operation. It returns the remainder of the division operation."
   ]
  },
  {
   "cell_type": "code",
   "execution_count": 5,
   "id": "af743d15-123a-448d-9130-4724adaf1a60",
   "metadata": {},
   "outputs": [
    {
     "name": "stdout",
     "output_type": "stream",
     "text": [
      "1\n"
     ]
    }
   ],
   "source": [
    "a = 10\n",
    "b = 3\n",
    "result = a % b\n",
    "print(result)  # Output: 1\n"
   ]
  },
  {
   "cell_type": "raw",
   "id": "57db097e-d4c6-4019-98fa-e20c0915ef21",
   "metadata": {},
   "source": [
    "(iii) // (Floor Division Operator):\n",
    "The // operator is used for floor division. It performs division and returns the floor value of the quotient, which is the largest integer less than or equal to the result."
   ]
  },
  {
   "cell_type": "code",
   "execution_count": 6,
   "id": "7add0a7e-7719-4cf7-9fe2-61561502e787",
   "metadata": {},
   "outputs": [
    {
     "name": "stdout",
     "output_type": "stream",
     "text": [
      "3\n"
     ]
    }
   ],
   "source": [
    "a = 10\n",
    "b = 3\n",
    "result = a // b\n",
    "print(result)  # Output: 3\n"
   ]
  },
  {
   "cell_type": "raw",
   "id": "eb5404bd-0c92-49b5-be95-dc05f9c10efd",
   "metadata": {},
   "source": [
    "(iv) ** (Exponentiation Operator):\n",
    "The ** operator is used for exponentiation. It raises a number to a power."
   ]
  },
  {
   "cell_type": "code",
   "execution_count": 7,
   "id": "e176821c-f031-4d46-9443-56a5717f8d83",
   "metadata": {},
   "outputs": [
    {
     "name": "stdout",
     "output_type": "stream",
     "text": [
      "8\n"
     ]
    }
   ],
   "source": [
    "a = 2\n",
    "b = 3\n",
    "result = a ** b\n",
    "print(result)  # Output: 8\n"
   ]
  },
  {
   "cell_type": "raw",
   "id": "824e4829-ad9d-471e-b2e0-d1d8b232e49f",
   "metadata": {},
   "source": [
    "Q4. Create a list of length 10 of your choice containing multiple types of data. Using for loop print the\n",
    "element and its data type."
   ]
  },
  {
   "cell_type": "code",
   "execution_count": 8,
   "id": "ab728edb-420a-416c-a111-381faa1f149f",
   "metadata": {},
   "outputs": [
    {
     "name": "stdout",
     "output_type": "stream",
     "text": [
      "10 <class 'int'>\n",
      "Hello <class 'str'>\n",
      "3.14 <class 'float'>\n",
      "True <class 'bool'>\n",
      "[1, 2, 3] <class 'list'>\n",
      "(4, 5, 6) <class 'tuple'>\n",
      "{'name': 'John', 'age': 25} <class 'dict'>\n",
      "None <class 'NoneType'>\n",
      "A <class 'str'>\n",
      "1000 <class 'int'>\n"
     ]
    }
   ],
   "source": [
    "my_list = [10, \"Hello\", 3.14, True, [1, 2, 3], (4, 5, 6), {\"name\": \"John\", \"age\": 25}, None, 'A', 1000]\n",
    "\n",
    "for element in my_list:\n",
    "    print(element, type(element))\n"
   ]
  },
  {
   "cell_type": "raw",
   "id": "965dba9a-3b25-4337-9975-21793f98bd5c",
   "metadata": {},
   "source": [
    "Q5. Using a while loop, verify if the number A is purely divisible by number B and if so then how many\n",
    "times it can be divisible."
   ]
  },
  {
   "cell_type": "code",
   "execution_count": 9,
   "id": "2b0f9d95-b922-4672-8238-bff5c41ebb5e",
   "metadata": {},
   "outputs": [
    {
     "name": "stdout",
     "output_type": "stream",
     "text": [
      "A is divisible by B 2 times.\n"
     ]
    }
   ],
   "source": [
    "A = 36\n",
    "B = 6\n",
    "count = 0\n",
    "\n",
    "while A % B == 0:\n",
    "    A /= B\n",
    "    count += 1\n",
    "\n",
    "print(f\"A is divisible by B {count} times.\")\n"
   ]
  },
  {
   "cell_type": "raw",
   "id": "32cbc7b7-23cc-4f31-a3f7-d567e376280a",
   "metadata": {},
   "source": [
    "Q6. Create a list containing 25 int type data. Using for loop and if-else condition print if the element is\n",
    "divisible by 3 or not."
   ]
  },
  {
   "cell_type": "code",
   "execution_count": 10,
   "id": "0f8f0512-445a-4df6-a914-8d839a47ba48",
   "metadata": {},
   "outputs": [
    {
     "name": "stdout",
     "output_type": "stream",
     "text": [
      "12 is divisible by 3.\n",
      "7 is not divisible by 3.\n",
      "18 is divisible by 3.\n",
      "5 is not divisible by 3.\n",
      "9 is divisible by 3.\n",
      "27 is divisible by 3.\n",
      "14 is not divisible by 3.\n",
      "36 is divisible by 3.\n",
      "21 is divisible by 3.\n",
      "10 is not divisible by 3.\n",
      "33 is divisible by 3.\n",
      "16 is not divisible by 3.\n",
      "22 is not divisible by 3.\n",
      "39 is divisible by 3.\n",
      "2 is not divisible by 3.\n",
      "30 is divisible by 3.\n",
      "8 is not divisible by 3.\n",
      "20 is not divisible by 3.\n",
      "15 is divisible by 3.\n",
      "25 is not divisible by 3.\n",
      "42 is divisible by 3.\n",
      "3 is divisible by 3.\n",
      "17 is not divisible by 3.\n",
      "6 is divisible by 3.\n",
      "11 is not divisible by 3.\n"
     ]
    }
   ],
   "source": [
    "my_list = [12, 7, 18, 5, 9, 27, 14, 36, 21, 10, 33, 16, 22, 39, 2, 30, 8, 20, 15, 25, 42, 3, 17, 6, 11]\n",
    "\n",
    "for element in my_list:\n",
    "    if element % 3 == 0:\n",
    "        print(f\"{element} is divisible by 3.\")\n",
    "    else:\n",
    "        print(f\"{element} is not divisible by 3.\")\n"
   ]
  },
  {
   "cell_type": "raw",
   "id": "2bc68965-569a-45c4-bf19-e7d2c242fd4b",
   "metadata": {},
   "source": [
    "Q7. What do you understand about mutable and immutable data types? Give examples for both showing\n",
    "this property."
   ]
  },
  {
   "cell_type": "raw",
   "id": "7161f7f4-4c7c-4fa7-aed5-6fc617112c1c",
   "metadata": {},
   "source": [
    "In Python, data types can be categorized as either mutable or immutable based on whether they can be modified after they are created. Here's a brief explanation of mutable and immutable data types, along with examples illustrating their properties:\n",
    "\n",
    "Mutable Data Types:\n",
    "Mutable data types are those that can be modified or changed after they are created.\n",
    "If a mutable object is modified, it retains the same identity or memory location.\n",
    "Examples of mutable data types in Python include lists, dictionaries, and sets."
   ]
  },
  {
   "cell_type": "code",
   "execution_count": 11,
   "id": "e588f126-7674-4eec-826b-ddbc7493b9b3",
   "metadata": {},
   "outputs": [
    {
     "name": "stdout",
     "output_type": "stream",
     "text": [
      "[1, 2, 3]\n",
      "[1, 2, 3, 4]\n",
      "[5, 2, 3, 4]\n"
     ]
    }
   ],
   "source": [
    "my_list = [1, 2, 3]\n",
    "print(my_list)  # Output: [1, 2, 3]\n",
    "\n",
    "my_list.append(4)\n",
    "print(my_list)  # Output: [1, 2, 3, 4]\n",
    "\n",
    "my_list[0] = 5\n",
    "print(my_list)  # Output: [5, 2, 3, 4]\n"
   ]
  },
  {
   "cell_type": "raw",
   "id": "1803cea5-d441-43f4-9f79-2ab5038891ba",
   "metadata": {},
   "source": [
    "Immutable Data Types:\n",
    "Immutable data types, once created, cannot be modified. Any operation on an immutable object creates a new object with the modified value.\n",
    "If an immutable object is modified, it creates a new object with the updated value, while the original object remains unchanged.\n",
    "Examples of immutable data types in Python include integers, floats, strings, and tuples."
   ]
  },
  {
   "cell_type": "code",
   "execution_count": 12,
   "id": "5eeeed10-c46a-4a7f-b77c-4510386521bb",
   "metadata": {},
   "outputs": [
    {
     "name": "stdout",
     "output_type": "stream",
     "text": [
      "Hello\n",
      "Hello, World!\n",
      "Hello\n"
     ]
    }
   ],
   "source": [
    "my_string = \"Hello\"\n",
    "print(my_string)  # Output: Hello\n",
    "\n",
    "new_string = my_string + \", World!\"\n",
    "print(new_string)  # Output: Hello, World!\n",
    "\n",
    "print(my_string)  # Output: Hello (original string unchanged)\n"
   ]
  },
  {
   "cell_type": "code",
   "execution_count": null,
   "id": "57b37cf0-3d3b-4a35-a243-672c9d24f5ff",
   "metadata": {},
   "outputs": [],
   "source": []
  }
 ],
 "metadata": {
  "kernelspec": {
   "display_name": "Python 3 (ipykernel)",
   "language": "python",
   "name": "python3"
  },
  "language_info": {
   "codemirror_mode": {
    "name": "ipython",
    "version": 3
   },
   "file_extension": ".py",
   "mimetype": "text/x-python",
   "name": "python",
   "nbconvert_exporter": "python",
   "pygments_lexer": "ipython3",
   "version": "3.10.8"
  }
 },
 "nbformat": 4,
 "nbformat_minor": 5
}

{
 "cells": [
  {
   "cell_type": "markdown",
   "id": "f4263f4f",
   "metadata": {},
   "source": [
    "### Q1. Write a Python function that takes in two arrays of data and calculates the F-value for a variance ratio\n",
    "test. The function should return the F-value and the corresponding p-value for the test."
   ]
  },
  {
   "cell_type": "code",
   "execution_count": 1,
   "id": "f3ba46fa",
   "metadata": {},
   "outputs": [
    {
     "name": "stdout",
     "output_type": "stream",
     "text": [
      "F-value: 1.8214747736093178\n",
      "P-value: 0.2878069920256372\n"
     ]
    }
   ],
   "source": [
    "import numpy as np\n",
    "from scipy.stats import f\n",
    "\n",
    "def variance_ratio_test(data1, data2):\n",
    "    \"\"\"\n",
    "    Perform a variance ratio test between two arrays of data.\n",
    "\n",
    "    Parameters:\n",
    "    - data1: NumPy array or list of data for the first group.\n",
    "    - data2: NumPy array or list of data for the second group.\n",
    "\n",
    "    Returns:\n",
    "    - f_value: F-value for the variance ratio test.\n",
    "    - p_value: Corresponding p-value for the test.\n",
    "    \"\"\"\n",
    "\n",
    "    # Calculate the sample variances\n",
    "    var1 = np.var(data1, ddof=1)\n",
    "    var2 = np.var(data2, ddof=1)\n",
    "\n",
    "    # Calculate the F-value\n",
    "    f_value = var1 / var2\n",
    "\n",
    "    # Calculate the degrees of freedom\n",
    "    df1 = len(data1) - 1\n",
    "    df2 = len(data2) - 1\n",
    "\n",
    "    # Calculate the p-value\n",
    "    p_value = 1 - f.cdf(f_value, df1, df2)\n",
    "\n",
    "    return f_value, p_value\n",
    "\n",
    "# Example usage\n",
    "data_group1 = [14.2, 15.4, 16.8, 14.6, 13.8]\n",
    "data_group2 = [12.1, 11.8, 13.2, 12.7, 10.9]\n",
    "\n",
    "f_value, p_value = variance_ratio_test(data_group1, data_group2)\n",
    "\n",
    "print(\"F-value:\", f_value)\n",
    "print(\"P-value:\", p_value)\n"
   ]
  },
  {
   "cell_type": "markdown",
   "id": "86c9188c",
   "metadata": {},
   "source": [
    "### Q2. Given a significance level of 0.05 and the degrees of freedom for the numerator and denominator of an\n",
    "F-distribution, write a Python function that returns the critical F-value for a two-tailed test.\n",
    "\n"
   ]
  },
  {
   "cell_type": "code",
   "execution_count": 2,
   "id": "3c547dd7",
   "metadata": {},
   "outputs": [
    {
     "name": "stdout",
     "output_type": "stream",
     "text": [
      "Critical F-value: 3.8586986662732143\n"
     ]
    }
   ],
   "source": [
    "from scipy.stats import f\n",
    "\n",
    "def critical_f_value(alpha, df_num, df_den):\n",
    "    \"\"\"\n",
    "    Calculate the critical F-value for a two-tailed test.\n",
    "\n",
    "    Parameters:\n",
    "    - alpha: Significance level.\n",
    "    - df_num: Degrees of freedom for the numerator.\n",
    "    - df_den: Degrees of freedom for the denominator.\n",
    "\n",
    "    Returns:\n",
    "    - critical_f: Critical F-value for the given significance level and degrees of freedom.\n",
    "    \"\"\"\n",
    "\n",
    "    # Calculate the critical F-value\n",
    "    critical_f = f.ppf(1 - alpha / 2, df_num, df_den)\n",
    "\n",
    "    return critical_f\n",
    "\n",
    "# Example usage\n",
    "alpha = 0.05\n",
    "df_num = 3\n",
    "df_den = 20\n",
    "\n",
    "critical_f = critical_f_value(alpha, df_num, df_den)\n",
    "print(\"Critical F-value:\", critical_f)\n"
   ]
  },
  {
   "cell_type": "markdown",
   "id": "74c491f2",
   "metadata": {},
   "source": [
    "### Q3. Write a Python program that generates random samples from two normal distributions with known\n",
    "variances and uses an F-test to determine if the variances are equal. The program should output the Fvalue, degrees of freedom, and p-value for the test."
   ]
  },
  {
   "cell_type": "code",
   "execution_count": 3,
   "id": "3745a310",
   "metadata": {},
   "outputs": [
    {
     "name": "stdout",
     "output_type": "stream",
     "text": [
      "F-value: 0.9343218779991278\n",
      "Degrees of Freedom (numerator): 29\n",
      "Degrees of Freedom (denominator): 29\n",
      "P-value: 0.8561073337841736\n"
     ]
    }
   ],
   "source": [
    "import numpy as np\n",
    "from scipy.stats import f\n",
    "\n",
    "def f_test_equal_variances(data1, data2):\n",
    "    \"\"\"\n",
    "    Perform an F-test for equality of variances between two data samples.\n",
    "\n",
    "    Parameters:\n",
    "    - data1: NumPy array or list of data for the first sample.\n",
    "    - data2: NumPy array or list of data for the second sample.\n",
    "\n",
    "    Returns:\n",
    "    - f_value: F-value for the F-test.\n",
    "    - df1: Degrees of freedom for the numerator.\n",
    "    - df2: Degrees of freedom for the denominator.\n",
    "    - p_value: Corresponding p-value for the test.\n",
    "    \"\"\"\n",
    "\n",
    "    # Calculate the variances\n",
    "    var1 = np.var(data1, ddof=1)\n",
    "    var2 = np.var(data2, ddof=1)\n",
    "\n",
    "    # Calculate degrees of freedom\n",
    "    df1 = len(data1) - 1\n",
    "    df2 = len(data2) - 1\n",
    "\n",
    "    # Calculate the F-value\n",
    "    f_value = var1 / var2\n",
    "\n",
    "    # Calculate the p-value\n",
    "    p_value = 2 * min(f.cdf(f_value, df1, df2), 1 - f.cdf(f_value, df1, df2))\n",
    "\n",
    "    return f_value, df1, df2, p_value\n",
    "\n",
    "# Generate random samples from normal distributions\n",
    "np.random.seed(42)\n",
    "sample1 = np.random.normal(loc=10, scale=2, size=30)\n",
    "sample2 = np.random.normal(loc=12, scale=2, size=30)\n",
    "\n",
    "# Perform F-test for equal variances\n",
    "f_value, df1, df2, p_value = f_test_equal_variances(sample1, sample2)\n",
    "\n",
    "print(\"F-value:\", f_value)\n",
    "print(\"Degrees of Freedom (numerator):\", df1)\n",
    "print(\"Degrees of Freedom (denominator):\", df2)\n",
    "print(\"P-value:\", p_value)\n"
   ]
  },
  {
   "cell_type": "markdown",
   "id": "a5e64a2a",
   "metadata": {},
   "source": [
    "### Q4.The variances of two populations are known to be 10 and 15. A sample of 12 observations is taken from\n",
    "### each population. Conduct an F-test at the 5% significance level to determine if the variances are\n",
    "significantly different."
   ]
  },
  {
   "cell_type": "code",
   "execution_count": 5,
   "id": "f34dcd43",
   "metadata": {},
   "outputs": [
    {
     "name": "stdout",
     "output_type": "stream",
     "text": [
      "F-value: 0.6666666666666666\n",
      "Degrees of Freedom (numerator): 11\n",
      "Degrees of Freedom (denominator): 11\n",
      "P-value: 0.5123897987357996\n",
      "Fail to reject the null hypothesis: The variances are not significantly different.\n"
     ]
    }
   ],
   "source": [
    "import numpy as np\n",
    "from scipy.stats import f\n",
    "\n",
    "# Given variances and sample sizes\n",
    "variance1 = 10\n",
    "variance2 = 15\n",
    "sample_size = 12\n",
    "\n",
    "# Calculate the degrees of freedom\n",
    "df1 = sample_size - 1\n",
    "df2 = sample_size - 1\n",
    "\n",
    "# Calculate the F-value\n",
    "f_value = variance1 / variance2\n",
    "\n",
    "# Calculate the p-value\n",
    "p_value = 2 * min(f.cdf(f_value, df1, df2), 1 - f.cdf(f_value, df1, df2))\n",
    "\n",
    "# Significance level\n",
    "alpha = 0.05\n",
    "\n",
    "print(\"F-value:\", f_value)\n",
    "print(\"Degrees of Freedom (numerator):\", df1)\n",
    "print(\"Degrees of Freedom (denominator):\", df2)\n",
    "print(\"P-value:\", p_value)\n",
    "\n",
    "if p_value < alpha:\n",
    "    print(\"Reject the null hypothesis: The variances are significantly different.\")\n",
    "else:\n",
    "    print(\"Fail to reject the null hypothesis: The variances are not significantly different.\")\n"
   ]
  },
  {
   "cell_type": "markdown",
   "id": "7a63ca2d",
   "metadata": {},
   "source": [
    "### Q5. A manufacturer claims that the variance of the diameter of a certain product is 0.005. A sample of 25\n",
    "### products is taken, and the sample variance is found to be 0.006. Conduct an F-test at the 1% significance\n",
    "level to determine if the claim is justified."
   ]
  },
  {
   "cell_type": "code",
   "execution_count": 6,
   "id": "e28c9a28",
   "metadata": {},
   "outputs": [
    {
     "name": "stdout",
     "output_type": "stream",
     "text": [
      "F-value: 1.2\n",
      "Degrees of Freedom (numerator): 24\n",
      "Degrees of Freedom (denominator): 24\n",
      "P-value: 0.6587309365634488\n",
      "Fail to reject the null hypothesis: The claim about the variance is justified.\n"
     ]
    }
   ],
   "source": [
    "import numpy as np\n",
    "from scipy.stats import f\n",
    "\n",
    "# Given sample variance and degrees of freedom\n",
    "sample_variance = 0.006\n",
    "sample_size = 25\n",
    "\n",
    "# Given claim variance\n",
    "claim_variance = 0.005\n",
    "\n",
    "# Calculate the degrees of freedom\n",
    "df1 = sample_size - 1\n",
    "df2 = sample_size - 1\n",
    "\n",
    "# Calculate the F-value\n",
    "f_value = sample_variance / claim_variance\n",
    "\n",
    "# Calculate the p-value\n",
    "p_value = 2 * min(f.cdf(f_value, df1, df2), 1 - f.cdf(f_value, df1, df2))\n",
    "\n",
    "# Significance level\n",
    "alpha = 0.01\n",
    "\n",
    "print(\"F-value:\", f_value)\n",
    "print(\"Degrees of Freedom (numerator):\", df1)\n",
    "print(\"Degrees of Freedom (denominator):\", df2)\n",
    "print(\"P-value:\", p_value)\n",
    "\n",
    "if p_value < alpha:\n",
    "    print(\"Reject the null hypothesis: The claim about the variance is not justified.\")\n",
    "else:\n",
    "    print(\"Fail to reject the null hypothesis: The claim about the variance is justified.\")\n"
   ]
  },
  {
   "cell_type": "markdown",
   "id": "5499b3e4",
   "metadata": {},
   "source": [
    "### Q6. Write a Python function that takes in the degrees of freedom for the numerator and denominator of an\n",
    "### F-distribution and calculates the mean and variance of the distribution. The function should return the\n",
    "mean and variance as a tuple."
   ]
  },
  {
   "cell_type": "code",
   "execution_count": 7,
   "id": "ce5134be",
   "metadata": {},
   "outputs": [
    {
     "name": "stdout",
     "output_type": "stream",
     "text": [
      "Mean of F-distribution: 1.1538461538461537\n",
      "Variance of F-distribution: 0.8714362560516407\n"
     ]
    }
   ],
   "source": [
    "def f_distribution_mean_variance(df_num, df_den):\n",
    "    \"\"\"\n",
    "    Calculate the mean and variance of an F-distribution.\n",
    "\n",
    "    Parameters:\n",
    "    - df_num: Degrees of freedom for the numerator.\n",
    "    - df_den: Degrees of freedom for the denominator.\n",
    "\n",
    "    Returns:\n",
    "    - mean: Mean of the F-distribution.\n",
    "    - variance: Variance of the F-distribution.\n",
    "    \"\"\"\n",
    "\n",
    "    if df_num <= 2:\n",
    "        raise ValueError(\"Degrees of freedom for the numerator must be greater than 2.\")\n",
    "\n",
    "    if df_den <= 2:\n",
    "        raise ValueError(\"Degrees of freedom for the denominator must be greater than 2.\")\n",
    "\n",
    "    mean = df_den / (df_den - 2)\n",
    "    variance = (2 * (df_den ** 2) * (df_num + df_den - 2)) / (df_num * (df_den - 2) ** 2 * (df_den - 4))\n",
    "\n",
    "    return mean, variance\n",
    "\n",
    "# Example usage\n",
    "df_num = 5\n",
    "df_den = 15\n",
    "\n",
    "mean, variance = f_distribution_mean_variance(df_num, df_den)\n",
    "\n",
    "print(\"Mean of F-distribution:\", mean)\n",
    "print(\"Variance of F-distribution:\", variance)\n"
   ]
  },
  {
   "cell_type": "markdown",
   "id": "fc1d089b",
   "metadata": {},
   "source": [
    "### Q7. A random sample of 10 measurements is taken from a normal population with unknown variance. The\n",
    "### sample variance is found to be 25. Another random sample of 15 measurements is taken from another\n",
    "### normal population with unknown variance, and the sample variance is found to be 20. Conduct an F-test\n",
    "at the 10% significance level to determine if the variances are significantly different."
   ]
  },
  {
   "cell_type": "code",
   "execution_count": 8,
   "id": "421fc2a5",
   "metadata": {},
   "outputs": [
    {
     "name": "stdout",
     "output_type": "stream",
     "text": [
      "F-value: 1.25\n",
      "Degrees of Freedom (numerator): 9\n",
      "Degrees of Freedom (denominator): 14\n",
      "P-value: 0.6832194382585954\n",
      "Fail to reject the null hypothesis: The variances are not significantly different.\n"
     ]
    }
   ],
   "source": [
    "import numpy as np\n",
    "from scipy.stats import f\n",
    "\n",
    "# Given sample variances and sample sizes\n",
    "sample_variance1 = 25\n",
    "sample_size1 = 10\n",
    "\n",
    "sample_variance2 = 20\n",
    "sample_size2 = 15\n",
    "\n",
    "# Calculate the degrees of freedom\n",
    "df1 = sample_size1 - 1\n",
    "df2 = sample_size2 - 1\n",
    "\n",
    "# Calculate the F-value\n",
    "f_value = sample_variance1 / sample_variance2\n",
    "\n",
    "# Calculate the p-value\n",
    "p_value = 2 * min(f.cdf(f_value, df1, df2), 1 - f.cdf(f_value, df1, df2))\n",
    "\n",
    "# Significance level\n",
    "alpha = 0.10\n",
    "\n",
    "print(\"F-value:\", f_value)\n",
    "print(\"Degrees of Freedom (numerator):\", df1)\n",
    "print(\"Degrees of Freedom (denominator):\", df2)\n",
    "print(\"P-value:\", p_value)\n",
    "\n",
    "if p_value < alpha:\n",
    "    print(\"Reject the null hypothesis: The variances are significantly different.\")\n",
    "else:\n",
    "    print(\"Fail to reject the null hypothesis: The variances are not significantly different.\")\n"
   ]
  },
  {
   "cell_type": "markdown",
   "id": "fe3e0c5a",
   "metadata": {},
   "source": [
    "### Q8. The following data represent the waiting times in minutes at two different restaurants on a Saturday\n",
    "### night: Restaurant A: 24, 25, 28, 23, 22, 20, 27; Restaurant B: 31, 33, 35, 30, 32, 36. Conduct an F-test at the 5%\n",
    "### significance level to determine if the variances are significantly different."
   ]
  },
  {
   "cell_type": "code",
   "execution_count": 9,
   "id": "69283f6c",
   "metadata": {},
   "outputs": [
    {
     "name": "stdout",
     "output_type": "stream",
     "text": [
      "F-value: 1.4551907719609583\n",
      "Degrees of Freedom (numerator): 6\n",
      "Degrees of Freedom (denominator): 5\n",
      "P-value: 0.6974815747937484\n",
      "Fail to reject the null hypothesis: The variances are not significantly different.\n"
     ]
    }
   ],
   "source": [
    "import numpy as np\n",
    "from scipy.stats import f\n",
    "\n",
    "# Given data for waiting times\n",
    "data_a = np.array([24, 25, 28, 23, 22, 20, 27])\n",
    "data_b = np.array([31, 33, 35, 30, 32, 36])\n",
    "\n",
    "# Calculate the sample variances\n",
    "sample_variance_a = np.var(data_a, ddof=1)\n",
    "sample_variance_b = np.var(data_b, ddof=1)\n",
    "\n",
    "# Calculate the degrees of freedom\n",
    "df1 = len(data_a) - 1\n",
    "df2 = len(data_b) - 1\n",
    "\n",
    "# Calculate the F-value\n",
    "f_value = sample_variance_a / sample_variance_b\n",
    "\n",
    "# Calculate the p-value\n",
    "p_value = 2 * min(f.cdf(f_value, df1, df2), 1 - f.cdf(f_value, df1, df2))\n",
    "\n",
    "# Significance level\n",
    "alpha = 0.05\n",
    "\n",
    "print(\"F-value:\", f_value)\n",
    "print(\"Degrees of Freedom (numerator):\", df1)\n",
    "print(\"Degrees of Freedom (denominator):\", df2)\n",
    "print(\"P-value:\", p_value)\n",
    "\n",
    "if p_value < alpha:\n",
    "    print(\"Reject the null hypothesis: The variances are significantly different.\")\n",
    "else:\n",
    "    print(\"Fail to reject the null hypothesis: The variances are not significantly different.\")\n"
   ]
  },
  {
   "cell_type": "markdown",
   "id": "b297cb25",
   "metadata": {},
   "source": [
    "### Q9. The following data represent the test scores of two groups of students: Group A: 80, 85, 90, 92, 87, 83;\n",
    "### Group B: 75, 78, 82, 79, 81, 84. Conduct an F-test at the 1% significance level to determine if the variances\n",
    "are significantly different."
   ]
  },
  {
   "cell_type": "code",
   "execution_count": 10,
   "id": "d8070a19",
   "metadata": {},
   "outputs": [
    {
     "name": "stdout",
     "output_type": "stream",
     "text": [
      "F-value: 1.9442622950819677\n",
      "Degrees of Freedom (numerator): 5\n",
      "Degrees of Freedom (denominator): 5\n",
      "P-value: 0.4831043549070688\n",
      "Fail to reject the null hypothesis: The variances are not significantly different.\n"
     ]
    }
   ],
   "source": [
    "import numpy as np\n",
    "from scipy.stats import f\n",
    "\n",
    "# Given data for test scores\n",
    "group_a_scores = np.array([80, 85, 90, 92, 87, 83])\n",
    "group_b_scores = np.array([75, 78, 82, 79, 81, 84])\n",
    "\n",
    "# Calculate the sample variances\n",
    "sample_variance_a = np.var(group_a_scores, ddof=1)\n",
    "sample_variance_b = np.var(group_b_scores, ddof=1)\n",
    "\n",
    "# Calculate the degrees of freedom\n",
    "df1 = len(group_a_scores) - 1\n",
    "df2 = len(group_b_scores) - 1\n",
    "\n",
    "# Calculate the F-value\n",
    "f_value = sample_variance_a / sample_variance_b\n",
    "\n",
    "# Calculate the p-value\n",
    "p_value = 2 * min(f.cdf(f_value, df1, df2), 1 - f.cdf(f_value, df1, df2))\n",
    "\n",
    "# Significance level\n",
    "alpha = 0.01\n",
    "\n",
    "print(\"F-value:\", f_value)\n",
    "print(\"Degrees of Freedom (numerator):\", df1)\n",
    "print(\"Degrees of Freedom (denominator):\", df2)\n",
    "print(\"P-value:\", p_value)\n",
    "\n",
    "if p_value < alpha:\n",
    "    print(\"Reject the null hypothesis: The variances are significantly different.\")\n",
    "else:\n",
    "    print(\"Fail to reject the null hypothesis: The variances are not significantly different.\")\n"
   ]
  },
  {
   "cell_type": "code",
   "execution_count": null,
   "id": "636c9610",
   "metadata": {},
   "outputs": [],
   "source": []
  }
 ],
 "metadata": {
  "kernelspec": {
   "display_name": "Python 3 (ipykernel)",
   "language": "python",
   "name": "python3"
  },
  "language_info": {
   "codemirror_mode": {
    "name": "ipython",
    "version": 3
   },
   "file_extension": ".py",
   "mimetype": "text/x-python",
   "name": "python",
   "nbconvert_exporter": "python",
   "pygments_lexer": "ipython3",
   "version": "3.10.9"
  }
 },
 "nbformat": 4,
 "nbformat_minor": 5
}

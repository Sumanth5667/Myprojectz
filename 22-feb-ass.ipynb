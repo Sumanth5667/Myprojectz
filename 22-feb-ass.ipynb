{
 "cells": [
  {
   "cell_type": "markdown",
   "id": "c159ab6f",
   "metadata": {},
   "source": [
    "Q1. Create a Pandas Series that contains the following data: 4, 8, 15, 16, 23, and 42. Then, print the series."
   ]
  },
  {
   "cell_type": "code",
   "execution_count": 1,
   "id": "fc4bb4e6",
   "metadata": {},
   "outputs": [],
   "source": [
    "import pandas as pd"
   ]
  },
  {
   "cell_type": "code",
   "execution_count": 7,
   "id": "2bccf8d8",
   "metadata": {},
   "outputs": [],
   "source": [
    "df1=pd.Series(data=[4,8,15,16,23,42],dtype=int)"
   ]
  },
  {
   "cell_type": "code",
   "execution_count": 8,
   "id": "0a8df8af",
   "metadata": {},
   "outputs": [
    {
     "data": {
      "text/plain": [
       "0     4\n",
       "1     8\n",
       "2    15\n",
       "3    16\n",
       "4    23\n",
       "5    42\n",
       "dtype: int32"
      ]
     },
     "execution_count": 8,
     "metadata": {},
     "output_type": "execute_result"
    }
   ],
   "source": [
    "df1"
   ]
  },
  {
   "cell_type": "code",
   "execution_count": 11,
   "id": "46e7e621",
   "metadata": {},
   "outputs": [
    {
     "data": {
      "text/plain": [
       "pandas.core.series.Series"
      ]
     },
     "execution_count": 11,
     "metadata": {},
     "output_type": "execute_result"
    }
   ],
   "source": [
    "type(df1)"
   ]
  },
  {
   "cell_type": "markdown",
   "id": "0d0a27c7",
   "metadata": {},
   "source": [
    "Q2. Create a variable of list type containing 10 elements in it, and apply pandas.Series function on the\n",
    "variable print it."
   ]
  },
  {
   "cell_type": "code",
   "execution_count": 12,
   "id": "4ec436d4",
   "metadata": {},
   "outputs": [],
   "source": [
    "#creating list vriable\n",
    "list1=[8,9,10,11,12,13,14,15,16,17]"
   ]
  },
  {
   "cell_type": "code",
   "execution_count": 14,
   "id": "00f4e4a9",
   "metadata": {},
   "outputs": [],
   "source": [
    "#applying pandas\n",
    "import pandas as pd\n",
    "df2=pd.Series(data=list1)"
   ]
  },
  {
   "cell_type": "code",
   "execution_count": 15,
   "id": "be7f7160",
   "metadata": {},
   "outputs": [
    {
     "data": {
      "text/plain": [
       "0     8\n",
       "1     9\n",
       "2    10\n",
       "3    11\n",
       "4    12\n",
       "5    13\n",
       "6    14\n",
       "7    15\n",
       "8    16\n",
       "9    17\n",
       "dtype: int64"
      ]
     },
     "execution_count": 15,
     "metadata": {},
     "output_type": "execute_result"
    }
   ],
   "source": [
    "df2"
   ]
  },
  {
   "cell_type": "code",
   "execution_count": 16,
   "id": "7ca541a6",
   "metadata": {},
   "outputs": [
    {
     "data": {
      "text/plain": [
       "pandas.core.series.Series"
      ]
     },
     "execution_count": 16,
     "metadata": {},
     "output_type": "execute_result"
    }
   ],
   "source": [
    "type(df2)"
   ]
  },
  {
   "cell_type": "markdown",
   "id": "a341c999",
   "metadata": {},
   "source": [
    "Q3. Create a Pandas DataFrame that contains the following data:"
   ]
  },
  {
   "cell_type": "markdown",
   "id": "5f421423",
   "metadata": {},
   "source": [
    "Name\n",
    "Alice\n",
    "Bob\n",
    "Claire\n",
    "\n",
    "Age\n",
    "25\n",
    "30\n",
    "27\n",
    "\n",
    "Gender\n",
    "Female\n",
    "Male\n",
    "Female"
   ]
  },
  {
   "cell_type": "code",
   "execution_count": 23,
   "id": "ccff3713",
   "metadata": {},
   "outputs": [
    {
     "name": "stdout",
     "output_type": "stream",
     "text": [
      "     Name  Age  Gender\n",
      "0   Alice   25  Female\n",
      "1     Bob   30    Male\n",
      "2  Claire   27  Female\n"
     ]
    }
   ],
   "source": [
    "import pandas as pd\n",
    "\n",
    "data = {\n",
    "    'Name': ['Alice', 'Bob', 'Claire'],\n",
    "    'Age': [25, 30, 27],\n",
    "    'Gender': ['Female', 'Male', 'Female']\n",
    "}\n",
    "\n",
    "df = pd.DataFrame(data)\n",
    "df = df.reset_index(drop=True)\n",
    "print(df)\n"
   ]
  },
  {
   "cell_type": "markdown",
   "id": "7fed18d9",
   "metadata": {},
   "source": [
    "Q4. What is ‘DataFrame’ in pandas and how is it different from pandas.series? Explain with an example."
   ]
  },
  {
   "cell_type": "markdown",
   "id": "d9299847",
   "metadata": {},
   "source": [
    "In Pandas, a DataFrame is a two-dimensional labeled data structure that can store data of different types (numeric, string, boolean, etc.). It is similar to a table in a relational database or a spreadsheet, where data is organized in rows and columns.\n",
    "\n",
    "A DataFrame consists of columns, each of which can be a different data type (e.g., integers, strings, floats, etc.). It provides a powerful way to manipulate and analyze data, offering various operations such as indexing, slicing, merging, grouping, and more.\n",
    "\n",
    "On the other hand, a Series in Pandas is a one-dimensional labeled array that can store data of a single data type. It can be thought of as a single column of a DataFrame. A Series also provides similar functionalities to a DataFrame but on a smaller scale"
   ]
  },
  {
   "cell_type": "code",
   "execution_count": 24,
   "id": "06f27504",
   "metadata": {},
   "outputs": [
    {
     "name": "stdout",
     "output_type": "stream",
     "text": [
      "     Name  Age  Gender\n",
      "0   Alice   25  Female\n",
      "1     Bob   30    Male\n",
      "2  Claire   27  Female\n",
      "0    25\n",
      "1    30\n",
      "2    27\n",
      "dtype: int64\n"
     ]
    }
   ],
   "source": [
    "import pandas as pd\n",
    "\n",
    "# Create a DataFrame\n",
    "data = {\n",
    "    'Name': ['Alice', 'Bob', 'Claire'],\n",
    "    'Age': [25, 30, 27],\n",
    "    'Gender': ['Female', 'Male', 'Female']\n",
    "}\n",
    "df = pd.DataFrame(data)\n",
    "print(df)\n",
    "\n",
    "# Create a Series\n",
    "ages = pd.Series([25, 30, 27])\n",
    "print(ages)\n"
   ]
  },
  {
   "cell_type": "markdown",
   "id": "4f0abc58",
   "metadata": {},
   "source": [
    "Q5. What are some common functions you can use to manipulate data in a Pandas DataFrame? Can\n",
    "you give an example of when you might use one of these functions?"
   ]
  },
  {
   "cell_type": "markdown",
   "id": "b83b1cc7",
   "metadata": {},
   "source": [
    "Pandas provides a wide range of functions and methods to manipulate data in a DataFrame. Some common functions include:\n",
    "\n",
    "head() and tail(): These functions allow you to view the first or last few rows of the DataFrame, respectively. They are useful for quickly inspecting the structure and content of the DataFrame.\n",
    "\n",
    "info(): This function provides a summary of the DataFrame, including the column names, data types, and the number of non-null values. It helps in understanding the overall structure and characteristics of the DataFrame.\n",
    "\n",
    "describe(): This function generates descriptive statistics of the numerical columns in the DataFrame, such as count, mean, standard deviation, minimum, maximum, and quartiles. It provides insights into the central tendency and spread of the data.\n",
    "\n",
    "sort_values(): This function allows you to sort the DataFrame by one or more columns. It is useful for arranging the data in a specific order based on a particular criterion.\n",
    "\n",
    "groupby(): This function enables grouping the data based on one or more columns, allowing you to perform aggregation operations, such as calculating sums, averages, or counts within each group. It is helpful for analyzing data based on different categories.\n",
    "\n",
    "dropna(): This function allows you to remove rows or columns with missing values (NaN) from the DataFrame. It helps in handling missing data effectively.\n",
    "\n",
    "fillna(): This function enables filling missing values in the DataFrame with a specified value or a calculated value (e.g., mean, median). It helps in data imputation and ensuring data completeness.\n",
    "\n",
    "apply(): This function applies a function to each element or column of the DataFrame. It allows for custom data transformations and calculations."
   ]
  },
  {
   "cell_type": "code",
   "execution_count": 26,
   "id": "6275e36b",
   "metadata": {},
   "outputs": [
    {
     "name": "stdout",
     "output_type": "stream",
     "text": [
      "  Product  Quantity  Price  Total Sales\n",
      "0       A        10   20.5        205.0\n",
      "1       B         5   10.2         51.0\n",
      "2       C         8   15.0        120.0\n"
     ]
    }
   ],
   "source": [
    "import pandas as pd\n",
    "\n",
    "# Sample data\n",
    "data = {\n",
    "    'Product': ['A', 'B', 'C'],\n",
    "    'Quantity': [10, 5, 8],\n",
    "    'Price': [20.5, 10.2, 15.0]\n",
    "}\n",
    "\n",
    "sales_data = pd.DataFrame(data)\n",
    "\n",
    "# Function to calculate total sales\n",
    "def calculate_total_sales(row):\n",
    "    return row['Quantity'] * row['Price']\n",
    "\n",
    "# Apply the function to create a new column 'Total Sales'\n",
    "sales_data['Total Sales'] = sales_data.apply(calculate_total_sales, axis=1)\n",
    "\n",
    "print(sales_data)\n"
   ]
  },
  {
   "cell_type": "markdown",
   "id": "8c50e507",
   "metadata": {},
   "source": [
    "Q6. Which of the following is mutable in nature Series, DataFrame, Panel?"
   ]
  },
  {
   "cell_type": "markdown",
   "id": "7438d565",
   "metadata": {},
   "source": [
    "Among the options provided (Series, DataFrame, Panel), both Series and DataFrame are mutable in nature, while Panel is not.\n",
    "\n",
    "In Pandas, a mutable object is one that can be modified after it is created. Let's discuss the mutability of Series, DataFrame, and Panel:\n",
    "\n",
    "1. Series: A Pandas Series is mutable, meaning you can modify its elements after creation. You can assign new values to specific elements or slice the series to update a subset of elements.\n",
    "\n",
    "2. DataFrame: Similar to Series, a DataFrame is mutable. You can modify the values in individual cells, add or remove columns, change column names, and perform various data manipulation operations. DataFrame provides flexibility for data modification and manipulation.\n",
    "\n",
    "3. Panel: However, the Panel is not mutable. The Panel data structure has been deprecated since Pandas version 0.20.0. It was used for three-dimensional data storage, where data was organized in items, major axis, and minor axis. Since Pandas 0.20.0, the recommended approach for working with three-dimensional data is to use a multi-index DataFrame. Nevertheless, regardless of the deprecation, the Panel object was not mutable.\n",
    "\n",
    "To summarize, both Series and DataFrame in Pandas are mutable, allowing you to modify their contents and structure. On the other hand, the Panel object is not mutable and has been deprecated in favor of using multi-index DataFrames for three-dimensional data storage."
   ]
  },
  {
   "cell_type": "markdown",
   "id": "61c34256",
   "metadata": {},
   "source": [
    "Q7. Create a DataFrame using multiple Series. Explain with an example."
   ]
  },
  {
   "cell_type": "markdown",
   "id": "fccb69c8",
   "metadata": {},
   "source": [
    "To create a DataFrame using multiple Series, you can pass a dictionary of Series objects to the pd.DataFrame() function. Each Series will represent a column in the DataFrame, and the dictionary keys will be used as the column names"
   ]
  },
  {
   "cell_type": "code",
   "execution_count": 27,
   "id": "f733bcf5",
   "metadata": {},
   "outputs": [
    {
     "name": "stdout",
     "output_type": "stream",
     "text": [
      "     Name  Age  Gender\n",
      "0   Alice   25  Female\n",
      "1     Bob   30    Male\n",
      "2  Claire   27  Female\n"
     ]
    }
   ],
   "source": [
    "import pandas as pd\n",
    "\n",
    "# Create the Series\n",
    "name_series = pd.Series(['Alice', 'Bob', 'Claire'])\n",
    "age_series = pd.Series([25, 30, 27])\n",
    "gender_series = pd.Series(['Female', 'Male', 'Female'])\n",
    "\n",
    "# Create the DataFrame\n",
    "data = {\n",
    "    'Name': name_series,\n",
    "    'Age': age_series,\n",
    "    'Gender': gender_series\n",
    "}\n",
    "df = pd.DataFrame(data)\n",
    "print(df)\n"
   ]
  },
  {
   "cell_type": "code",
   "execution_count": null,
   "id": "cb57ee21",
   "metadata": {},
   "outputs": [],
   "source": []
  }
 ],
 "metadata": {
  "kernelspec": {
   "display_name": "Python 3 (ipykernel)",
   "language": "python",
   "name": "python3"
  },
  "language_info": {
   "codemirror_mode": {
    "name": "ipython",
    "version": 3
   },
   "file_extension": ".py",
   "mimetype": "text/x-python",
   "name": "python",
   "nbconvert_exporter": "python",
   "pygments_lexer": "ipython3",
   "version": "3.10.9"
  }
 },
 "nbformat": 4,
 "nbformat_minor": 5
}

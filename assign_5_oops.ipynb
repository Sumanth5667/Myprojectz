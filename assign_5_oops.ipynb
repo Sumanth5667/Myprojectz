{
 "cells": [
  {
   "cell_type": "markdown",
   "id": "35a92b17-ab6f-4045-bd55-ba34d4512076",
   "metadata": {},
   "source": [
    "Q1. Explain Class and Object with respect to Object-Oriented Programming. Give a suitable example"
   ]
  },
  {
   "cell_type": "raw",
   "id": "cdf892cf-a39e-4658-afff-9fff1c2a2b65",
   "metadata": {},
   "source": [
    "In object-oriented programming (OOP), a class is a blueprint or a template for creating objects. It defines the properties (attributes) and behaviors (methods) that objects of that class will have. Essentially, a class encapsulates data and the operations that can be performed on that data.\n",
    "\n",
    "An object, on the other hand, is an instance of a class. It is a concrete representation of a class, created using the class blueprint. Objects have their own unique data (attribute values) and can perform actions (methods) defined in the class."
   ]
  },
  {
   "cell_type": "code",
   "execution_count": 1,
   "id": "39bc7240-5458-4fa8-a314-b99254c5003d",
   "metadata": {},
   "outputs": [
    {
     "name": "stdout",
     "output_type": "stream",
     "text": [
      "Max\n",
      "Poodle\n",
      "Woof!\n",
      "I am Bella, a Poodle.\n"
     ]
    }
   ],
   "source": [
    "# Defining a class\n",
    "class Dog:\n",
    "    def __init__(self, name, breed):\n",
    "        self.name = name\n",
    "        self.breed = breed\n",
    "\n",
    "    def bark(self):\n",
    "        print(\"Woof!\")\n",
    "\n",
    "    def describe(self):\n",
    "        print(f\"I am {self.name}, a {self.breed}.\")\n",
    "\n",
    "# Creating objects (instances) of the class\n",
    "dog1 = Dog(\"Max\", \"Labrador\")\n",
    "dog2 = Dog(\"Bella\", \"Poodle\")\n",
    "\n",
    "# Accessing object attributes and methods\n",
    "print(dog1.name)        # Output: Max\n",
    "print(dog2.breed)       # Output: Poodle\n",
    "\n",
    "dog1.bark()             # Output: Woof!\n",
    "dog2.describe()         # Output: I am Bella, a Poodle.\n"
   ]
  },
  {
   "cell_type": "markdown",
   "id": "fbe8e2b5-2f75-422f-91de-10dffa34145c",
   "metadata": {},
   "source": [
    "Q2. Name the four pillars of OOPs"
   ]
  },
  {
   "cell_type": "raw",
   "id": "3fc6b386-5f74-4e01-8781-1207aed4e714",
   "metadata": {},
   "source": [
    "The four pillars of object-oriented programming (OOP) are:\n",
    "\n",
    "1. Encapsulation: Encapsulation is the practice of bundling data (attributes) and the methods (behaviors) that operate on that data into a single unit called a class. It provides data hiding and abstraction, allowing the internal details of an object to be hidden and accessed only through the defined interface. Encapsulation helps in organizing and structuring code, improving code maintainability and reusability.\n",
    "\n",
    "2. Inheritance: Inheritance allows the creation of new classes (derived or child classes) based on existing classes (base or parent classes). The derived classes inherit the properties and behaviors of the base classes, thereby promoting code reuse and establishing an \"is-a\" relationship between classes. Inheritance enables the creation of hierarchical class structures and supports concepts like polymorphism and method overriding.\n",
    "\n",
    "3. Polymorphism: Polymorphism means the ability of an object to take on multiple forms or types. In OOP, polymorphism allows objects of different classes to be treated as objects of a common superclass. It enables methods to be defined in a generic way, capable of operating on objects of different classes, and the specific implementation is determined at runtime based on the actual type of the object. Polymorphism promotes code flexibility, extensibility, and modularity.\n",
    "\n",
    "4. Abstraction: Abstraction involves representing complex real-world entities as simplified models within the program. It focuses on capturing only the essential features and behaviors of an object while hiding unnecessary details. Abstraction allows the creation of abstract classes and interfaces that define common properties and methods for related classes. It helps in managing complexity, providing a clear and concise structure to the code, and separating the interface from the implementation.\n",
    "\n",
    "These four pillars together form the foundation of object-oriented programming paradigms, providing principles and techniques to model real-world concepts, promote code reusability, enhance modularity, and make code more maintainable and scalable."
   ]
  },
  {
   "cell_type": "markdown",
   "id": "08fe5ba3-1c34-4c03-96a4-a7cc86ad082e",
   "metadata": {},
   "source": [
    "Q3. Explain why the __init__() function is used. Give a suitable example\n",
    "\n"
   ]
  },
  {
   "cell_type": "raw",
   "id": "faeedaa3-1ee7-4772-82f8-3848d591d7ed",
   "metadata": {},
   "source": [
    "The __init__() function, also known as the constructor, is a special method in Python classes. It is automatically called when an object of the class is created. The primary purpose of the __init__() function is to initialize the attributes (data) of an object.\n",
    "\n",
    "Here's an example to illustrate the usage of the __init__() function:"
   ]
  },
  {
   "cell_type": "code",
   "execution_count": 4,
   "id": "644e5867-2de9-41ec-a83d-4c62b16c1bfe",
   "metadata": {},
   "outputs": [
    {
     "name": "stdout",
     "output_type": "stream",
     "text": [
      "sumanth - data science masters\n"
     ]
    }
   ],
   "source": [
    "class pwskills:\n",
    "    def __init__(self,course,name,age):\n",
    "        self.course=course\n",
    "        self.name=name\n",
    "        self.age=age\n",
    "    def display(self):\n",
    "        print(self.name,'-',self.course)\n",
    "stusent1=pwskills('data science masters','sumanth',19)\n",
    "stusent1.display()"
   ]
  },
  {
   "cell_type": "markdown",
   "id": "5b675355-7080-42f9-b050-6e9412f082f4",
   "metadata": {},
   "source": [
    "Q4. Why self is used in OOPs in 6 lines\n",
    "\n"
   ]
  },
  {
   "cell_type": "raw",
   "id": "65a8cf91-9052-4b54-9f5e-fe8ab89144da",
   "metadata": {},
   "source": [
    "In object-oriented programming (OOP), the `self` keyword is used as a convention to refer to the instance of a class within its methods. Here's why `self` is used:\n",
    "\n",
    "1. `self` helps differentiate between instance attributes and local variables. It allows us to access and modify the attributes of an object within its methods, ensuring we are working with the specific instance.\n",
    "\n",
    "2. It enables code reusability by allowing multiple objects to exist simultaneously, each with its own set of attribute values. `self` ensures that attribute modifications occur on the correct instance.\n",
    "\n",
    "3. `self` facilitates encapsulation by providing a reference to the current instance. It allows for secure access to object attributes, preventing accidental modification or unwanted side effects.\n",
    "\n",
    "4. It is a common convention in most object-oriented languages, making the code more readable and understandable. Developers can easily identify that `self` refers to the current instance.\n",
    "\n",
    "5. `self` is used when invoking other methods within a class, ensuring that the correct instance is being referenced throughout the method calls.\n",
    "\n",
    "6. The use of `self` allows for the implementation of inheritance and polymorphism, as it ensures that overridden methods can correctly refer to the instance they are called on.\n",
    "\n",
    "Overall, `self` is a fundamental part of OOP, providing a way to access and manipulate the attributes of an object within its methods, enabling encapsulation, code reusability, and supporting the principles of inheritance and polymorphism."
   ]
  },
  {
   "cell_type": "markdown",
   "id": "410f9afb-9bf5-4790-92d6-ceb0add6f363",
   "metadata": {},
   "source": [
    "Q5. What is inheritance? Give an example for each type of inheritance"
   ]
  },
  {
   "cell_type": "raw",
   "id": "86864c56-d87d-4e63-9182-3ce0c223325f",
   "metadata": {},
   "source": [
    "Inheritance is a fundamental concept in object-oriented programming (OOP) that allows the creation of new classes (derived or child classes) based on existing classes (base or parent classes). It enables the derived classes to inherit the properties (attributes) and behaviors (methods) of the base classes, thereby promoting code reuse and establishing an \"is-a\" relationship between classes.\n",
    "\n",
    "Inheritance is represented by an \"inheritance hierarchy\" or \"class hierarchy\" where the derived classes inherit the characteristics of their parent classes. The derived classes can extend or modify the attributes and methods inherited from the base class, as well as add their own unique attributes and methods."
   ]
  },
  {
   "cell_type": "raw",
   "id": "d4f396ce-f1d3-47f2-8941-91b6427f32de",
   "metadata": {},
   "source": [
    "1)single inheritance"
   ]
  },
  {
   "cell_type": "code",
   "execution_count": 8,
   "id": "3e5d0f98-d95c-4298-ab51-1a978c80b147",
   "metadata": {},
   "outputs": [
    {
     "name": "stdout",
     "output_type": "stream",
     "text": [
      "i am parent class method\n",
      "i am child class method\n"
     ]
    }
   ],
   "source": [
    "class parent:\n",
    "    def method1(self):\n",
    "        print('i am parent class method')\n",
    "class child(parent):\n",
    "    def method2(self):\n",
    "        print('i am child class method')\n",
    "c1=child()\n",
    "c1.method1()\n",
    "c1.method2()"
   ]
  },
  {
   "cell_type": "raw",
   "id": "8cb48728-cc83-475a-9b53-94d83de4a2f0",
   "metadata": {},
   "source": [
    "2)multilevel inheritance"
   ]
  },
  {
   "cell_type": "code",
   "execution_count": 10,
   "id": "4c00ab2b-3d9e-4f9b-beaf-87a3b21f83e9",
   "metadata": {},
   "outputs": [
    {
     "name": "stdout",
     "output_type": "stream",
     "text": [
      "method of class a\n",
      "method of class b\n",
      "methodof class c\n"
     ]
    }
   ],
   "source": [
    "class a:\n",
    "    def method1(self):\n",
    "        print('method of class a')\n",
    "class b(a):\n",
    "    def method2(self):\n",
    "        print('method of class b')\n",
    "class c(b):\n",
    "    def method3(self):\n",
    "        print('methodof class c')\n",
    "c1=c()\n",
    "c1.method1()\n",
    "c1.method2()\n",
    "c1.method3()\n"
   ]
  },
  {
   "cell_type": "raw",
   "id": "863af85d-15aa-4e15-9ef0-f3f0889b244e",
   "metadata": {},
   "source": [
    "3)multiple inheritance"
   ]
  },
  {
   "cell_type": "code",
   "execution_count": 12,
   "id": "8faee028-fca6-4e60-a1cc-b0a7e2b662d8",
   "metadata": {},
   "outputs": [
    {
     "name": "stdout",
     "output_type": "stream",
     "text": [
      "i am parent method1\n",
      "i am parent method2\n",
      "i am child method\n"
     ]
    }
   ],
   "source": [
    "class parent1:\n",
    "    def method1(self):\n",
    "        print('i am parent method1')\n",
    "class parent2:\n",
    "    def method2(self):\n",
    "        print('i am parent method2')\n",
    "class child(parent1,parent2):\n",
    "    def method3(self):\n",
    "        print('i am child method')\n",
    "c1=child()\n",
    "c1.method1()\n",
    "c1.method2()\n",
    "c1.method3()"
   ]
  },
  {
   "cell_type": "raw",
   "id": "f5386405-2fe0-4a16-8fcf-7e826abdc807",
   "metadata": {},
   "source": [
    "4)hiearchial inheritance"
   ]
  },
  {
   "cell_type": "code",
   "execution_count": 13,
   "id": "ef5aac8c-96ad-4c71-8ad4-fc7f59855ce6",
   "metadata": {},
   "outputs": [
    {
     "name": "stdout",
     "output_type": "stream",
     "text": [
      "parent method\n",
      "child1 method\n",
      "parent method\n",
      "child 2 method\n"
     ]
    }
   ],
   "source": [
    "class parent:\n",
    "    def method1(self):\n",
    "        print('parent method')\n",
    "class child1(parent):\n",
    "    def method2(self):\n",
    "        print('child1 method')\n",
    "class child2(parent):\n",
    "    def method3(self):\n",
    "        print('child 2 method')\n",
    "ob=child1()\n",
    "ob1=child2()\n",
    "ob.method1()\n",
    "ob.method2()\n",
    "ob1.method1()\n",
    "ob1.method3()\n"
   ]
  },
  {
   "cell_type": "code",
   "execution_count": null,
   "id": "5561b4b6-5c7d-4c36-a6c9-e137b3315682",
   "metadata": {},
   "outputs": [],
   "source": []
  }
 ],
 "metadata": {
  "kernelspec": {
   "display_name": "Python 3 (ipykernel)",
   "language": "python",
   "name": "python3"
  },
  "language_info": {
   "codemirror_mode": {
    "name": "ipython",
    "version": 3
   },
   "file_extension": ".py",
   "mimetype": "text/x-python",
   "name": "python",
   "nbconvert_exporter": "python",
   "pygments_lexer": "ipython3",
   "version": "3.10.8"
  }
 },
 "nbformat": 4,
 "nbformat_minor": 5
}

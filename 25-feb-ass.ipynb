{
 "cells": [
  {
   "cell_type": "code",
   "execution_count": 2,
   "id": "ef048a32",
   "metadata": {},
   "outputs": [],
   "source": [
    "import pandas as pd\n",
    "course_name = ['Data Science', 'Machine Learning', 'Big Data', 'Data Engineer']\n",
    "duration = [2,3,6,4]\n",
    "df = pd.DataFrame(data = {'course_name' : course_name, 'duration' : duration})"
   ]
  },
  {
   "cell_type": "code",
   "execution_count": 3,
   "id": "4622f548",
   "metadata": {},
   "outputs": [
    {
     "data": {
      "text/html": [
       "<div>\n",
       "<style scoped>\n",
       "    .dataframe tbody tr th:only-of-type {\n",
       "        vertical-align: middle;\n",
       "    }\n",
       "\n",
       "    .dataframe tbody tr th {\n",
       "        vertical-align: top;\n",
       "    }\n",
       "\n",
       "    .dataframe thead th {\n",
       "        text-align: right;\n",
       "    }\n",
       "</style>\n",
       "<table border=\"1\" class=\"dataframe\">\n",
       "  <thead>\n",
       "    <tr style=\"text-align: right;\">\n",
       "      <th></th>\n",
       "      <th>course_name</th>\n",
       "      <th>duration</th>\n",
       "    </tr>\n",
       "  </thead>\n",
       "  <tbody>\n",
       "    <tr>\n",
       "      <th>0</th>\n",
       "      <td>Data Science</td>\n",
       "      <td>2</td>\n",
       "    </tr>\n",
       "    <tr>\n",
       "      <th>1</th>\n",
       "      <td>Machine Learning</td>\n",
       "      <td>3</td>\n",
       "    </tr>\n",
       "    <tr>\n",
       "      <th>2</th>\n",
       "      <td>Big Data</td>\n",
       "      <td>6</td>\n",
       "    </tr>\n",
       "    <tr>\n",
       "      <th>3</th>\n",
       "      <td>Data Engineer</td>\n",
       "      <td>4</td>\n",
       "    </tr>\n",
       "  </tbody>\n",
       "</table>\n",
       "</div>"
      ],
      "text/plain": [
       "        course_name  duration\n",
       "0      Data Science         2\n",
       "1  Machine Learning         3\n",
       "2          Big Data         6\n",
       "3     Data Engineer         4"
      ]
     },
     "execution_count": 3,
     "metadata": {},
     "output_type": "execute_result"
    }
   ],
   "source": [
    "df"
   ]
  },
  {
   "cell_type": "markdown",
   "id": "637af0bb",
   "metadata": {},
   "source": [
    "### Q1. Write a code to print the data present in the second row of the dataframe, df."
   ]
  },
  {
   "cell_type": "code",
   "execution_count": 6,
   "id": "67497089",
   "metadata": {},
   "outputs": [
    {
     "data": {
      "text/plain": [
       "course_name    Machine Learning\n",
       "duration                      3\n",
       "Name: 1, dtype: object"
      ]
     },
     "execution_count": 6,
     "metadata": {},
     "output_type": "execute_result"
    }
   ],
   "source": [
    "df.iloc[1]"
   ]
  },
  {
   "cell_type": "code",
   "execution_count": 9,
   "id": "19083027",
   "metadata": {},
   "outputs": [
    {
     "data": {
      "text/html": [
       "<div>\n",
       "<style scoped>\n",
       "    .dataframe tbody tr th:only-of-type {\n",
       "        vertical-align: middle;\n",
       "    }\n",
       "\n",
       "    .dataframe tbody tr th {\n",
       "        vertical-align: top;\n",
       "    }\n",
       "\n",
       "    .dataframe thead th {\n",
       "        text-align: right;\n",
       "    }\n",
       "</style>\n",
       "<table border=\"1\" class=\"dataframe\">\n",
       "  <thead>\n",
       "    <tr style=\"text-align: right;\">\n",
       "      <th></th>\n",
       "      <th>course_name</th>\n",
       "      <th>duration</th>\n",
       "    </tr>\n",
       "  </thead>\n",
       "  <tbody>\n",
       "    <tr>\n",
       "      <th>1</th>\n",
       "      <td>Machine Learning</td>\n",
       "      <td>3</td>\n",
       "    </tr>\n",
       "  </tbody>\n",
       "</table>\n",
       "</div>"
      ],
      "text/plain": [
       "        course_name  duration\n",
       "1  Machine Learning         3"
      ]
     },
     "execution_count": 9,
     "metadata": {},
     "output_type": "execute_result"
    }
   ],
   "source": [
    "df[1:2]\n",
    "#slicing"
   ]
  },
  {
   "cell_type": "markdown",
   "id": "0f63fb95",
   "metadata": {},
   "source": [
    "### Q2. What is the difference between the functions loc and iloc in pandas.DataFrame?"
   ]
  },
  {
   "cell_type": "markdown",
   "id": "b9415c10",
   "metadata": {},
   "source": [
    "### answer:\n",
    "\n",
    "In pandas, loc and iloc are two different methods used to access and manipulate data in a DataFrame, but they are used for different purposes and have some key differences:\n",
    "\n",
    "Label-based vs. Integer-based indexing:\n",
    "\n",
    "loc: This method is primarily label-based indexing. It is used for selecting data by specifying row and column labels. You can use row and column labels to slice and access data. It includes the endpoint when slicing, just like typical Python slicing.\n",
    "\n",
    "iloc: This method is integer-based indexing. It is used for selecting data by specifying row and column positions as integers. It does not include the endpoint when slicing, similar to Python's integer indexing.\n",
    "\n",
    "Usage:\n",
    "\n",
    "loc is typically used when you want to select data based on labels or conditions. For example, you can use df.loc[row_label, column_label] to access a specific element, or df.loc[row_label] to select an entire row based on its label.\n",
    "\n",
    "iloc is used when you want to select data based on integer positions. For example, you can use df.iloc[row_position, column_position] to access a specific element, or df.iloc[row_position] to select an entire row based on its position."
   ]
  },
  {
   "cell_type": "markdown",
   "id": "cf28ecc6",
   "metadata": {},
   "source": [
    "### Q3. Reindex the given dataframe using a variable, reindex = [3,0,1,2] and store it in the variable, new_df\n",
    "### then find the output for both new_df.loc[2] and new_df.iloc[2]."
   ]
  },
  {
   "cell_type": "code",
   "execution_count": 14,
   "id": "a7e53176",
   "metadata": {},
   "outputs": [
    {
     "data": {
      "text/html": [
       "<div>\n",
       "<style scoped>\n",
       "    .dataframe tbody tr th:only-of-type {\n",
       "        vertical-align: middle;\n",
       "    }\n",
       "\n",
       "    .dataframe tbody tr th {\n",
       "        vertical-align: top;\n",
       "    }\n",
       "\n",
       "    .dataframe thead th {\n",
       "        text-align: right;\n",
       "    }\n",
       "</style>\n",
       "<table border=\"1\" class=\"dataframe\">\n",
       "  <thead>\n",
       "    <tr style=\"text-align: right;\">\n",
       "      <th></th>\n",
       "      <th>course_name</th>\n",
       "      <th>duration</th>\n",
       "    </tr>\n",
       "  </thead>\n",
       "  <tbody>\n",
       "    <tr>\n",
       "      <th>0</th>\n",
       "      <td>Data Science</td>\n",
       "      <td>2</td>\n",
       "    </tr>\n",
       "    <tr>\n",
       "      <th>1</th>\n",
       "      <td>Machine Learning</td>\n",
       "      <td>3</td>\n",
       "    </tr>\n",
       "    <tr>\n",
       "      <th>2</th>\n",
       "      <td>Big Data</td>\n",
       "      <td>6</td>\n",
       "    </tr>\n",
       "    <tr>\n",
       "      <th>3</th>\n",
       "      <td>Data Engineer</td>\n",
       "      <td>4</td>\n",
       "    </tr>\n",
       "  </tbody>\n",
       "</table>\n",
       "</div>"
      ],
      "text/plain": [
       "        course_name  duration\n",
       "0      Data Science         2\n",
       "1  Machine Learning         3\n",
       "2          Big Data         6\n",
       "3     Data Engineer         4"
      ]
     },
     "execution_count": 14,
     "metadata": {},
     "output_type": "execute_result"
    }
   ],
   "source": [
    "df"
   ]
  },
  {
   "cell_type": "code",
   "execution_count": 21,
   "id": "457a929e",
   "metadata": {},
   "outputs": [],
   "source": [
    "reindex=[3,0,1,2]\n",
    "new_df=pd.DataFrame(df,index=reindex)"
   ]
  },
  {
   "cell_type": "code",
   "execution_count": 22,
   "id": "9ea24a7e",
   "metadata": {},
   "outputs": [
    {
     "data": {
      "text/html": [
       "<div>\n",
       "<style scoped>\n",
       "    .dataframe tbody tr th:only-of-type {\n",
       "        vertical-align: middle;\n",
       "    }\n",
       "\n",
       "    .dataframe tbody tr th {\n",
       "        vertical-align: top;\n",
       "    }\n",
       "\n",
       "    .dataframe thead th {\n",
       "        text-align: right;\n",
       "    }\n",
       "</style>\n",
       "<table border=\"1\" class=\"dataframe\">\n",
       "  <thead>\n",
       "    <tr style=\"text-align: right;\">\n",
       "      <th></th>\n",
       "      <th>course_name</th>\n",
       "      <th>duration</th>\n",
       "    </tr>\n",
       "  </thead>\n",
       "  <tbody>\n",
       "    <tr>\n",
       "      <th>3</th>\n",
       "      <td>Data Engineer</td>\n",
       "      <td>4</td>\n",
       "    </tr>\n",
       "    <tr>\n",
       "      <th>0</th>\n",
       "      <td>Data Science</td>\n",
       "      <td>2</td>\n",
       "    </tr>\n",
       "    <tr>\n",
       "      <th>1</th>\n",
       "      <td>Machine Learning</td>\n",
       "      <td>3</td>\n",
       "    </tr>\n",
       "    <tr>\n",
       "      <th>2</th>\n",
       "      <td>Big Data</td>\n",
       "      <td>6</td>\n",
       "    </tr>\n",
       "  </tbody>\n",
       "</table>\n",
       "</div>"
      ],
      "text/plain": [
       "        course_name  duration\n",
       "3     Data Engineer         4\n",
       "0      Data Science         2\n",
       "1  Machine Learning         3\n",
       "2          Big Data         6"
      ]
     },
     "execution_count": 22,
     "metadata": {},
     "output_type": "execute_result"
    }
   ],
   "source": [
    "new_df"
   ]
  },
  {
   "cell_type": "code",
   "execution_count": 23,
   "id": "43a443c0",
   "metadata": {},
   "outputs": [
    {
     "data": {
      "text/plain": [
       "course_name    Big Data\n",
       "duration              6\n",
       "Name: 2, dtype: object"
      ]
     },
     "execution_count": 23,
     "metadata": {},
     "output_type": "execute_result"
    }
   ],
   "source": [
    " new_df.loc[2]"
   ]
  },
  {
   "cell_type": "code",
   "execution_count": 24,
   "id": "1cc84f83",
   "metadata": {},
   "outputs": [
    {
     "data": {
      "text/plain": [
       "course_name    Machine Learning\n",
       "duration                      3\n",
       "Name: 1, dtype: object"
      ]
     },
     "execution_count": 24,
     "metadata": {},
     "output_type": "execute_result"
    }
   ],
   "source": [
    "new_df.iloc[2]"
   ]
  },
  {
   "cell_type": "markdown",
   "id": "a9211987",
   "metadata": {},
   "source": [
    "### the new_df.loc[2] indicates the index 2 containing row ,that is big data and duration is 6hrs\n",
    "#### the new_df.iloc[2] indicates irregular of naming it focus on posotional index that is machine learning and duration is 3hrs"
   ]
  },
  {
   "cell_type": "code",
   "execution_count": 39,
   "id": "8700b389",
   "metadata": {},
   "outputs": [],
   "source": [
    "import pandas as pd\n",
    "import numpy as np\n",
    "columns = ['column_1', 'column_2', 'column_3', 'column_4', 'column_5', 'column_6']\n",
    "indices = [1,2,3,4,5,6]\n",
    "#Creating a dataframe:\n",
    "df1 = pd.DataFrame(np.random.rand(6,6), columns = columns, index = indices)"
   ]
  },
  {
   "cell_type": "code",
   "execution_count": 26,
   "id": "7805e63d",
   "metadata": {},
   "outputs": [
    {
     "data": {
      "text/html": [
       "<div>\n",
       "<style scoped>\n",
       "    .dataframe tbody tr th:only-of-type {\n",
       "        vertical-align: middle;\n",
       "    }\n",
       "\n",
       "    .dataframe tbody tr th {\n",
       "        vertical-align: top;\n",
       "    }\n",
       "\n",
       "    .dataframe thead th {\n",
       "        text-align: right;\n",
       "    }\n",
       "</style>\n",
       "<table border=\"1\" class=\"dataframe\">\n",
       "  <thead>\n",
       "    <tr style=\"text-align: right;\">\n",
       "      <th></th>\n",
       "      <th>column_1</th>\n",
       "      <th>column_2</th>\n",
       "      <th>column_3</th>\n",
       "      <th>column_4</th>\n",
       "      <th>column_5</th>\n",
       "      <th>column_6</th>\n",
       "    </tr>\n",
       "  </thead>\n",
       "  <tbody>\n",
       "    <tr>\n",
       "      <th>1</th>\n",
       "      <td>0.826926</td>\n",
       "      <td>0.464007</td>\n",
       "      <td>0.586710</td>\n",
       "      <td>0.014029</td>\n",
       "      <td>0.581453</td>\n",
       "      <td>0.236683</td>\n",
       "    </tr>\n",
       "    <tr>\n",
       "      <th>2</th>\n",
       "      <td>0.175517</td>\n",
       "      <td>0.510034</td>\n",
       "      <td>0.962431</td>\n",
       "      <td>0.273521</td>\n",
       "      <td>0.933272</td>\n",
       "      <td>0.944852</td>\n",
       "    </tr>\n",
       "    <tr>\n",
       "      <th>3</th>\n",
       "      <td>0.176013</td>\n",
       "      <td>0.119839</td>\n",
       "      <td>0.473505</td>\n",
       "      <td>0.532423</td>\n",
       "      <td>0.656190</td>\n",
       "      <td>0.785639</td>\n",
       "    </tr>\n",
       "    <tr>\n",
       "      <th>4</th>\n",
       "      <td>0.405273</td>\n",
       "      <td>0.656007</td>\n",
       "      <td>0.243095</td>\n",
       "      <td>0.633238</td>\n",
       "      <td>0.949553</td>\n",
       "      <td>0.014797</td>\n",
       "    </tr>\n",
       "    <tr>\n",
       "      <th>5</th>\n",
       "      <td>0.603198</td>\n",
       "      <td>0.202376</td>\n",
       "      <td>0.927969</td>\n",
       "      <td>0.436247</td>\n",
       "      <td>0.353669</td>\n",
       "      <td>0.029137</td>\n",
       "    </tr>\n",
       "    <tr>\n",
       "      <th>6</th>\n",
       "      <td>0.288055</td>\n",
       "      <td>0.785211</td>\n",
       "      <td>0.637030</td>\n",
       "      <td>0.246046</td>\n",
       "      <td>0.955780</td>\n",
       "      <td>0.088178</td>\n",
       "    </tr>\n",
       "  </tbody>\n",
       "</table>\n",
       "</div>"
      ],
      "text/plain": [
       "   column_1  column_2  column_3  column_4  column_5  column_6\n",
       "1  0.826926  0.464007  0.586710  0.014029  0.581453  0.236683\n",
       "2  0.175517  0.510034  0.962431  0.273521  0.933272  0.944852\n",
       "3  0.176013  0.119839  0.473505  0.532423  0.656190  0.785639\n",
       "4  0.405273  0.656007  0.243095  0.633238  0.949553  0.014797\n",
       "5  0.603198  0.202376  0.927969  0.436247  0.353669  0.029137\n",
       "6  0.288055  0.785211  0.637030  0.246046  0.955780  0.088178"
      ]
     },
     "execution_count": 26,
     "metadata": {},
     "output_type": "execute_result"
    }
   ],
   "source": [
    "df1"
   ]
  },
  {
   "cell_type": "markdown",
   "id": "3d75e98e",
   "metadata": {},
   "source": [
    "### Q4. Write a code to find the following statistical measurements for the above dataframe df1:\n",
    "(i) mean of each and every column present in the dataframe.\n",
    "(ii) standard deviation of column, ‘column_2’"
   ]
  },
  {
   "cell_type": "code",
   "execution_count": 40,
   "id": "fca39952",
   "metadata": {},
   "outputs": [
    {
     "data": {
      "text/html": [
       "<div>\n",
       "<style scoped>\n",
       "    .dataframe tbody tr th:only-of-type {\n",
       "        vertical-align: middle;\n",
       "    }\n",
       "\n",
       "    .dataframe tbody tr th {\n",
       "        vertical-align: top;\n",
       "    }\n",
       "\n",
       "    .dataframe thead th {\n",
       "        text-align: right;\n",
       "    }\n",
       "</style>\n",
       "<table border=\"1\" class=\"dataframe\">\n",
       "  <thead>\n",
       "    <tr style=\"text-align: right;\">\n",
       "      <th></th>\n",
       "      <th>column_1</th>\n",
       "      <th>column_2</th>\n",
       "      <th>column_3</th>\n",
       "      <th>column_4</th>\n",
       "      <th>column_5</th>\n",
       "      <th>column_6</th>\n",
       "    </tr>\n",
       "  </thead>\n",
       "  <tbody>\n",
       "    <tr>\n",
       "      <th>1</th>\n",
       "      <td>0.862658</td>\n",
       "      <td>0.618819</td>\n",
       "      <td>0.590442</td>\n",
       "      <td>0.602161</td>\n",
       "      <td>0.318882</td>\n",
       "      <td>0.285164</td>\n",
       "    </tr>\n",
       "    <tr>\n",
       "      <th>2</th>\n",
       "      <td>0.794056</td>\n",
       "      <td>0.073190</td>\n",
       "      <td>0.955493</td>\n",
       "      <td>0.484008</td>\n",
       "      <td>0.679768</td>\n",
       "      <td>0.824946</td>\n",
       "    </tr>\n",
       "    <tr>\n",
       "      <th>3</th>\n",
       "      <td>0.257969</td>\n",
       "      <td>0.441247</td>\n",
       "      <td>0.946372</td>\n",
       "      <td>0.039903</td>\n",
       "      <td>0.254484</td>\n",
       "      <td>0.379274</td>\n",
       "    </tr>\n",
       "    <tr>\n",
       "      <th>4</th>\n",
       "      <td>0.683429</td>\n",
       "      <td>0.521467</td>\n",
       "      <td>0.252920</td>\n",
       "      <td>0.001455</td>\n",
       "      <td>0.530862</td>\n",
       "      <td>0.756802</td>\n",
       "    </tr>\n",
       "    <tr>\n",
       "      <th>5</th>\n",
       "      <td>0.315681</td>\n",
       "      <td>0.665753</td>\n",
       "      <td>0.297505</td>\n",
       "      <td>0.588511</td>\n",
       "      <td>0.457375</td>\n",
       "      <td>0.834490</td>\n",
       "    </tr>\n",
       "    <tr>\n",
       "      <th>6</th>\n",
       "      <td>0.602848</td>\n",
       "      <td>0.483498</td>\n",
       "      <td>0.992317</td>\n",
       "      <td>0.327821</td>\n",
       "      <td>0.064092</td>\n",
       "      <td>0.751644</td>\n",
       "    </tr>\n",
       "  </tbody>\n",
       "</table>\n",
       "</div>"
      ],
      "text/plain": [
       "   column_1  column_2  column_3  column_4  column_5  column_6\n",
       "1  0.862658  0.618819  0.590442  0.602161  0.318882  0.285164\n",
       "2  0.794056  0.073190  0.955493  0.484008  0.679768  0.824946\n",
       "3  0.257969  0.441247  0.946372  0.039903  0.254484  0.379274\n",
       "4  0.683429  0.521467  0.252920  0.001455  0.530862  0.756802\n",
       "5  0.315681  0.665753  0.297505  0.588511  0.457375  0.834490\n",
       "6  0.602848  0.483498  0.992317  0.327821  0.064092  0.751644"
      ]
     },
     "execution_count": 40,
     "metadata": {},
     "output_type": "execute_result"
    }
   ],
   "source": [
    "df1"
   ]
  },
  {
   "cell_type": "code",
   "execution_count": 28,
   "id": "1fc1ea9d",
   "metadata": {},
   "outputs": [
    {
     "data": {
      "text/plain": [
       "column_1    0.412497\n",
       "column_2    0.456246\n",
       "column_3    0.638457\n",
       "column_4    0.355917\n",
       "column_5    0.738319\n",
       "column_6    0.349881\n",
       "dtype: float64"
      ]
     },
     "execution_count": 28,
     "metadata": {},
     "output_type": "execute_result"
    }
   ],
   "source": [
    "df1.mean()"
   ]
  },
  {
   "cell_type": "code",
   "execution_count": 29,
   "id": "35e833de",
   "metadata": {},
   "outputs": [
    {
     "data": {
      "text/plain": [
       "0.25639636343022926"
      ]
     },
     "execution_count": 29,
     "metadata": {},
     "output_type": "execute_result"
    }
   ],
   "source": [
    "df1['column_2'].std()"
   ]
  },
  {
   "cell_type": "markdown",
   "id": "688ca31d",
   "metadata": {},
   "source": [
    "### Q5. Replace the data present in the second row of column, ‘column_2’ by a string variable then find the mean of column, column_2.\n",
    "If you are getting errors in executing it then explain why.\n",
    "[Hint: To replace the data use df1.loc[] and equate this to string data of your choice.]"
   ]
  },
  {
   "cell_type": "code",
   "execution_count": 41,
   "id": "ebc301ee",
   "metadata": {},
   "outputs": [
    {
     "data": {
      "text/html": [
       "<div>\n",
       "<style scoped>\n",
       "    .dataframe tbody tr th:only-of-type {\n",
       "        vertical-align: middle;\n",
       "    }\n",
       "\n",
       "    .dataframe tbody tr th {\n",
       "        vertical-align: top;\n",
       "    }\n",
       "\n",
       "    .dataframe thead th {\n",
       "        text-align: right;\n",
       "    }\n",
       "</style>\n",
       "<table border=\"1\" class=\"dataframe\">\n",
       "  <thead>\n",
       "    <tr style=\"text-align: right;\">\n",
       "      <th></th>\n",
       "      <th>column_1</th>\n",
       "      <th>column_2</th>\n",
       "      <th>column_3</th>\n",
       "      <th>column_4</th>\n",
       "      <th>column_5</th>\n",
       "      <th>column_6</th>\n",
       "    </tr>\n",
       "  </thead>\n",
       "  <tbody>\n",
       "    <tr>\n",
       "      <th>1</th>\n",
       "      <td>0.862658</td>\n",
       "      <td>0.618819</td>\n",
       "      <td>0.590442</td>\n",
       "      <td>0.602161</td>\n",
       "      <td>0.318882</td>\n",
       "      <td>0.285164</td>\n",
       "    </tr>\n",
       "    <tr>\n",
       "      <th>2</th>\n",
       "      <td>0.794056</td>\n",
       "      <td>0.073190</td>\n",
       "      <td>0.955493</td>\n",
       "      <td>0.484008</td>\n",
       "      <td>0.679768</td>\n",
       "      <td>0.824946</td>\n",
       "    </tr>\n",
       "    <tr>\n",
       "      <th>3</th>\n",
       "      <td>0.257969</td>\n",
       "      <td>0.441247</td>\n",
       "      <td>0.946372</td>\n",
       "      <td>0.039903</td>\n",
       "      <td>0.254484</td>\n",
       "      <td>0.379274</td>\n",
       "    </tr>\n",
       "    <tr>\n",
       "      <th>4</th>\n",
       "      <td>0.683429</td>\n",
       "      <td>0.521467</td>\n",
       "      <td>0.252920</td>\n",
       "      <td>0.001455</td>\n",
       "      <td>0.530862</td>\n",
       "      <td>0.756802</td>\n",
       "    </tr>\n",
       "    <tr>\n",
       "      <th>5</th>\n",
       "      <td>0.315681</td>\n",
       "      <td>0.665753</td>\n",
       "      <td>0.297505</td>\n",
       "      <td>0.588511</td>\n",
       "      <td>0.457375</td>\n",
       "      <td>0.834490</td>\n",
       "    </tr>\n",
       "    <tr>\n",
       "      <th>6</th>\n",
       "      <td>0.602848</td>\n",
       "      <td>0.483498</td>\n",
       "      <td>0.992317</td>\n",
       "      <td>0.327821</td>\n",
       "      <td>0.064092</td>\n",
       "      <td>0.751644</td>\n",
       "    </tr>\n",
       "  </tbody>\n",
       "</table>\n",
       "</div>"
      ],
      "text/plain": [
       "   column_1  column_2  column_3  column_4  column_5  column_6\n",
       "1  0.862658  0.618819  0.590442  0.602161  0.318882  0.285164\n",
       "2  0.794056  0.073190  0.955493  0.484008  0.679768  0.824946\n",
       "3  0.257969  0.441247  0.946372  0.039903  0.254484  0.379274\n",
       "4  0.683429  0.521467  0.252920  0.001455  0.530862  0.756802\n",
       "5  0.315681  0.665753  0.297505  0.588511  0.457375  0.834490\n",
       "6  0.602848  0.483498  0.992317  0.327821  0.064092  0.751644"
      ]
     },
     "execution_count": 41,
     "metadata": {},
     "output_type": "execute_result"
    }
   ],
   "source": [
    "df1"
   ]
  },
  {
   "cell_type": "code",
   "execution_count": 44,
   "id": "f89271dd",
   "metadata": {},
   "outputs": [],
   "source": [
    "df1.loc[2,'column_2']='iamstring'"
   ]
  },
  {
   "cell_type": "code",
   "execution_count": 45,
   "id": "1a6ab91c",
   "metadata": {},
   "outputs": [
    {
     "data": {
      "text/html": [
       "<div>\n",
       "<style scoped>\n",
       "    .dataframe tbody tr th:only-of-type {\n",
       "        vertical-align: middle;\n",
       "    }\n",
       "\n",
       "    .dataframe tbody tr th {\n",
       "        vertical-align: top;\n",
       "    }\n",
       "\n",
       "    .dataframe thead th {\n",
       "        text-align: right;\n",
       "    }\n",
       "</style>\n",
       "<table border=\"1\" class=\"dataframe\">\n",
       "  <thead>\n",
       "    <tr style=\"text-align: right;\">\n",
       "      <th></th>\n",
       "      <th>column_1</th>\n",
       "      <th>column_2</th>\n",
       "      <th>column_3</th>\n",
       "      <th>column_4</th>\n",
       "      <th>column_5</th>\n",
       "      <th>column_6</th>\n",
       "    </tr>\n",
       "  </thead>\n",
       "  <tbody>\n",
       "    <tr>\n",
       "      <th>1</th>\n",
       "      <td>0.862658</td>\n",
       "      <td>0.618819</td>\n",
       "      <td>0.590442</td>\n",
       "      <td>0.602161</td>\n",
       "      <td>0.318882</td>\n",
       "      <td>0.285164</td>\n",
       "    </tr>\n",
       "    <tr>\n",
       "      <th>2</th>\n",
       "      <td>0.794056</td>\n",
       "      <td>iamstring</td>\n",
       "      <td>0.955493</td>\n",
       "      <td>0.484008</td>\n",
       "      <td>0.679768</td>\n",
       "      <td>0.824946</td>\n",
       "    </tr>\n",
       "    <tr>\n",
       "      <th>3</th>\n",
       "      <td>0.257969</td>\n",
       "      <td>0.441247</td>\n",
       "      <td>0.946372</td>\n",
       "      <td>0.039903</td>\n",
       "      <td>0.254484</td>\n",
       "      <td>0.379274</td>\n",
       "    </tr>\n",
       "    <tr>\n",
       "      <th>4</th>\n",
       "      <td>0.683429</td>\n",
       "      <td>0.521467</td>\n",
       "      <td>0.252920</td>\n",
       "      <td>0.001455</td>\n",
       "      <td>0.530862</td>\n",
       "      <td>0.756802</td>\n",
       "    </tr>\n",
       "    <tr>\n",
       "      <th>5</th>\n",
       "      <td>0.315681</td>\n",
       "      <td>0.665753</td>\n",
       "      <td>0.297505</td>\n",
       "      <td>0.588511</td>\n",
       "      <td>0.457375</td>\n",
       "      <td>0.834490</td>\n",
       "    </tr>\n",
       "    <tr>\n",
       "      <th>6</th>\n",
       "      <td>0.602848</td>\n",
       "      <td>0.483498</td>\n",
       "      <td>0.992317</td>\n",
       "      <td>0.327821</td>\n",
       "      <td>0.064092</td>\n",
       "      <td>0.751644</td>\n",
       "    </tr>\n",
       "  </tbody>\n",
       "</table>\n",
       "</div>"
      ],
      "text/plain": [
       "   column_1   column_2  column_3  column_4  column_5  column_6\n",
       "1  0.862658   0.618819  0.590442  0.602161  0.318882  0.285164\n",
       "2  0.794056  iamstring  0.955493  0.484008  0.679768  0.824946\n",
       "3  0.257969   0.441247  0.946372  0.039903  0.254484  0.379274\n",
       "4  0.683429   0.521467  0.252920  0.001455  0.530862  0.756802\n",
       "5  0.315681   0.665753  0.297505  0.588511  0.457375  0.834490\n",
       "6  0.602848   0.483498  0.992317  0.327821  0.064092  0.751644"
      ]
     },
     "execution_count": 45,
     "metadata": {},
     "output_type": "execute_result"
    }
   ],
   "source": [
    "df1"
   ]
  },
  {
   "cell_type": "code",
   "execution_count": 46,
   "id": "4ff0570e",
   "metadata": {},
   "outputs": [
    {
     "name": "stderr",
     "output_type": "stream",
     "text": [
      "C:\\Users\\Sumanth\\AppData\\Local\\Temp\\ipykernel_11752\\2053335143.py:1: FutureWarning: The default value of numeric_only in DataFrame.mean is deprecated. In a future version, it will default to False. In addition, specifying 'numeric_only=None' is deprecated. Select only valid columns or specify the value of numeric_only to silence this warning.\n",
      "  df1.mean()\n"
     ]
    },
    {
     "data": {
      "text/plain": [
       "column_1    0.586107\n",
       "column_3    0.672508\n",
       "column_4    0.340643\n",
       "column_5    0.384244\n",
       "column_6    0.638720\n",
       "dtype: float64"
      ]
     },
     "execution_count": 46,
     "metadata": {},
     "output_type": "execute_result"
    }
   ],
   "source": [
    "df1.mean()"
   ]
  },
  {
   "cell_type": "markdown",
   "id": "2156146e",
   "metadata": {},
   "source": [
    "#### The default value of numeric_only in DataFrame.mean is deprecated. In a future version, it will default to False. In addition, specifying 'numeric_only=None' is deprecated. Select only valid columns or specify the value of numeric_only to silence this warning."
   ]
  },
  {
   "cell_type": "markdown",
   "id": "32211f08",
   "metadata": {},
   "source": [
    "#### here the datatype is considered as object so the mean calculation can only be done on numeric and floating point so it returns the error"
   ]
  },
  {
   "cell_type": "markdown",
   "id": "bfe2a5c1",
   "metadata": {},
   "source": [
    "### Q6. What do you understand about the windows function in pandas and list the types of windows functions?"
   ]
  },
  {
   "cell_type": "markdown",
   "id": "de9f56a7",
   "metadata": {},
   "source": [
    "### answer:\n",
    "In pandas, the term \"window functions\" refers to a class of functions that operate on a \"window\" or a moving subset of data in a DataFrame or Series. These functions are also known as \"rolling\" or \"expanding\" functions, and they are particularly useful for time-series data and other sequential data where you want to compute statistics or perform calculations over a specific window of observations.\n",
    "\n",
    "Window functions are typically used with the rolling() and expanding() methods in pandas. Here's an overview of these functions and their types:\n",
    "\n",
    "Rolling Window Functions:\n",
    "\n",
    "Rolling window functions compute a statistic for a fixed-size window of data as it moves through the data.\n",
    "Types of rolling window functions:\n",
    "\n",
    "rolling.mean() / rolling.sum() / rolling.min() / rolling.max(): Calculate the mean, sum, minimum, or maximum of values in a rolling window.\n",
    "rolling.std() / rolling.var(): Compute the standard deviation or variance of values in a rolling window.\n",
    "rolling.median() / rolling.quantile(): Calculate the median or quantiles of values in a rolling window.\n",
    "rolling.apply(): Apply a custom function to the data within a rolling window.\n",
    "rolling.count(): Count the number of non-NaN/None values in a rolling window.\n",
    "rolling.corr() / rolling.cov(): Compute the rolling correlation or covariance between two time series.\n",
    "Expanding Window Functions:\n",
    "\n",
    "Expanding window functions compute a statistic for all data points from the beginning up to the current data point.\n",
    "Types of expanding window functions:\n",
    "\n",
    "expanding.mean() / expanding.sum() / expanding.min() / expanding.max(): Calculate the mean, sum, minimum, or maximum of values in an expanding window.\n",
    "expanding.std() / expanding.var(): Compute the standard deviation or variance of values in an expanding window.\n",
    "expanding.median() / expanding.quantile(): Calculate the median or quantiles of values in an expanding window.\n",
    "expanding.apply(): Apply a custom function to all data points in an expanding window.\n",
    "expanding.count(): Count the number of non-NaN/None values in an expanding window."
   ]
  },
  {
   "cell_type": "code",
   "execution_count": 47,
   "id": "5481ca4d",
   "metadata": {},
   "outputs": [
    {
     "name": "stdout",
     "output_type": "stream",
     "text": [
      "      Value\n",
      "0  1.949181\n",
      "1  0.499227\n",
      "2  2.336537\n",
      "3 -0.351457\n",
      "4  1.140477\n",
      "5 -0.948522\n",
      "6 -1.944962\n",
      "7 -0.045683\n",
      "8  0.023176\n",
      "9 -0.709752\n",
      "0         NaN\n",
      "1         NaN\n",
      "2    1.594982\n",
      "3    0.828102\n",
      "4    1.041853\n",
      "5   -0.053167\n",
      "6   -0.584336\n",
      "7   -0.979722\n",
      "8   -0.655823\n",
      "9   -0.244086\n",
      "Name: Value, dtype: float64\n"
     ]
    }
   ],
   "source": [
    "import pandas as pd\n",
    "import numpy as np\n",
    "\n",
    "# Create a DataFrame with time-series data\n",
    "data = {'Value': np.random.randn(10)}\n",
    "df = pd.DataFrame(data)\n",
    "\n",
    "# Calculate the rolling mean over a window of size 3\n",
    "rolling_mean = df['Value'].rolling(window=3).mean()\n",
    "\n",
    "print(df)\n",
    "print(rolling_mean)\n"
   ]
  },
  {
   "cell_type": "markdown",
   "id": "44e8e62e",
   "metadata": {},
   "source": [
    "### Q7. Write a code to print only the current month and year at the time of answering this question.\n",
    "[Hint: Use pandas.datetime function]"
   ]
  },
  {
   "cell_type": "code",
   "execution_count": 48,
   "id": "741ddf00",
   "metadata": {},
   "outputs": [
    {
     "name": "stdout",
     "output_type": "stream",
     "text": [
      "Current Month and Year: September 2023\n"
     ]
    }
   ],
   "source": [
    "import pandas as pd\n",
    "from datetime import datetime\n",
    "\n",
    "# Get the current date and time\n",
    "current_date = datetime.now()\n",
    "\n",
    "# Extract the current month and year using pandas.to_datetime\n",
    "current_month_year = pd.to_datetime(current_date).strftime('%B %Y')\n",
    "\n",
    "print(\"Current Month and Year:\", current_month_year)\n"
   ]
  },
  {
   "cell_type": "markdown",
   "id": "212f7848",
   "metadata": {},
   "source": [
    "#### Q8. Write a Python program that takes in two dates as input (in the format YYYY-MM-DD) andcalculates the difference between them in days, hours, and minutes using Pandas time delta. The\n",
    "program should prompt the user to enter the dates and display the result."
   ]
  },
  {
   "cell_type": "code",
   "execution_count": 49,
   "id": "be0bf83f",
   "metadata": {},
   "outputs": [
    {
     "name": "stdout",
     "output_type": "stream",
     "text": [
      "Enter the start date (YYYY-MM-DD): 2023-08-30\n",
      "Enter the end date (YYYY-MM-DD): 2023-09-10\n",
      "Time Difference: 11 days, 0 hours, 0 minutes\n"
     ]
    }
   ],
   "source": [
    "import pandas as pd\n",
    "\n",
    "# Function to get a valid date input from the user\n",
    "def get_valid_date_input(prompt):\n",
    "    while True:\n",
    "        try:\n",
    "            date_str = input(prompt + \" (YYYY-MM-DD): \")\n",
    "            date = pd.to_datetime(date_str)\n",
    "            return date\n",
    "        except ValueError:\n",
    "            print(\"Invalid date format. Please use YYYY-MM-DD.\")\n",
    "\n",
    "# Get the first date from the user\n",
    "start_date = get_valid_date_input(\"Enter the start date\")\n",
    "\n",
    "# Get the second date from the user\n",
    "end_date = get_valid_date_input(\"Enter the end date\")\n",
    "\n",
    "# Calculate the time difference\n",
    "time_difference = end_date - start_date\n",
    "\n",
    "# Extract days, hours, and minutes from the time difference\n",
    "days = time_difference.days\n",
    "hours, remainder = divmod(time_difference.seconds, 3600)\n",
    "minutes = remainder // 60\n",
    "\n",
    "# Display the result\n",
    "print(f\"Time Difference: {days} days, {hours} hours, {minutes} minutes\")\n"
   ]
  },
  {
   "cell_type": "markdown",
   "id": "74be202f",
   "metadata": {},
   "source": [
    "### Q9. Write a Python program that reads a CSV file containing categorical data and converts a specifiedcolumn to a categorical data type. The program should prompt the user to enter the file path, column\n",
    "name, and category order, and then display the sorted data."
   ]
  },
  {
   "cell_type": "code",
   "execution_count": 50,
   "id": "b157c855",
   "metadata": {},
   "outputs": [
    {
     "name": "stdout",
     "output_type": "stream",
     "text": [
      "Enter the CSV file path: D:\\Sumanth\\Downloads\\titanic (1).csv\n",
      "Enter the column name to convert to categorical: Cabin\n",
      "Enter the category order (comma-separated): 1,2,3\n",
      "\n",
      "Sorted Data:\n",
      "    Cabin            Ticket number  Survived\n",
      "0     NaN         A/5 21171      5         0\n",
      "1     NaN          PC 17599      3         1\n",
      "2     NaN  STON/O2. 3101282      6         1\n",
      "3     NaN            113803      3         1\n",
      "4     NaN            373450      A         0\n",
      "..    ...               ...    ...       ...\n",
      "886   NaN            211536      3         0\n",
      "887   NaN            112053      3         1\n",
      "888   NaN        W./C. 6607      1         0\n",
      "889   NaN            111369      2         1\n",
      "890   NaN            370376      3         0\n",
      "\n",
      "[891 rows x 4 columns]\n"
     ]
    }
   ],
   "source": [
    "import pandas as pd\n",
    "\n",
    "# Function to read a CSV file and convert a column to categorical\n",
    "def convert_to_categorical(csv_file, column_name, category_order):\n",
    "    try:\n",
    "        # Read the CSV file into a DataFrame\n",
    "        df = pd.read_csv(csv_file)\n",
    "\n",
    "        # Convert the specified column to categorical\n",
    "        df[column_name] = pd.Categorical(df[column_name], categories=category_order, ordered=True)\n",
    "\n",
    "        # Sort the DataFrame by the categorical column\n",
    "        sorted_df = df.sort_values(by=[column_name])\n",
    "\n",
    "        return sorted_df\n",
    "    except FileNotFoundError:\n",
    "        print(\"File not found. Please check the file path.\")\n",
    "    except KeyError:\n",
    "        print(\"Column not found in the CSV file. Please check the column name.\")\n",
    "\n",
    "# Prompt the user for file path, column name, and category order\n",
    "file_path = input(\"Enter the CSV file path: \")\n",
    "column_name = input(\"Enter the column name to convert to categorical: \")\n",
    "category_order = input(\"Enter the category order (comma-separated): \").split(',')\n",
    "\n",
    "# Call the function to convert and sort the data\n",
    "result_df = convert_to_categorical(file_path, column_name, category_order)\n",
    "\n",
    "# Display the sorted data\n",
    "if result_df is not None:\n",
    "    print(\"\\nSorted Data:\")\n",
    "    print(result_df)\n"
   ]
  },
  {
   "cell_type": "markdown",
   "id": "d9a4e637",
   "metadata": {},
   "source": [
    "### Q10. Write a Python program that reads a CSV file containing sales data for different products andvisualizes the data using a stacked bar chart to show the sales of each product category over time. Theprogram should prompt the user to enter the file path and display the chart."
   ]
  },
  {
   "cell_type": "code",
   "execution_count": 51,
   "id": "a77574ac",
   "metadata": {},
   "outputs": [
    {
     "name": "stdout",
     "output_type": "stream",
     "text": [
      "Enter the CSV file path: \n",
      "File not found. Please check the file path.\n"
     ]
    }
   ],
   "source": [
    "import pandas as pd\n",
    "import matplotlib.pyplot as plt\n",
    "\n",
    "# Function to read CSV file and create a stacked bar chart\n",
    "def visualize_sales_data(csv_file):\n",
    "    try:\n",
    "        # Read the CSV file into a DataFrame\n",
    "        df = pd.read_csv(csv_file)\n",
    "\n",
    "        # Pivot the DataFrame to prepare for the stacked bar chart\n",
    "        pivoted_df = df.pivot(index='Date', columns='Product Category', values='Sales')\n",
    "\n",
    "        # Create the stacked bar chart\n",
    "        ax = pivoted_df.plot(kind='bar', stacked=True, figsize=(10, 6))\n",
    "        plt.xlabel('Date')\n",
    "        plt.ylabel('Sales')\n",
    "        plt.title('Sales by Product Category Over Time')\n",
    "        plt.legend(title='Product Category')\n",
    "\n",
    "        # Show the chart\n",
    "        plt.show()\n",
    "    except FileNotFoundError:\n",
    "        print(\"File not found. Please check the file path.\")\n",
    "\n",
    "# Prompt the user for the file path\n",
    "file_path = input(\"Enter the CSV file path: \")\n",
    "\n",
    "# Call the function to visualize sales data\n",
    "visualize_sales_data(file_path)\n"
   ]
  },
  {
   "cell_type": "markdown",
   "id": "57703537",
   "metadata": {},
   "source": [
    "Q11. You are given a CSV file containing student data that includes the student ID and their test score. Write\n",
    "a Python program that reads the CSV file, calculates the mean, median, and mode of the test scores, and\n",
    "displays the results in a table.\n",
    "The program should do the followingM\n",
    "I Prompt the user to enter the file path of the CSV file containing the student dataR\n",
    "I Read the CSV file into a Pandas DataFrameR\n",
    "I Calculate the mean, median, and mode of the test scores using Pandas toolsR\n",
    "I Display the mean, median, and mode in a table.\n",
    "Assume the CSV file contains the following columnsM\n",
    "I Student ID: The ID of the studentR\n",
    "I Test Score: The score of the student's test."
   ]
  },
  {
   "cell_type": "code",
   "execution_count": 52,
   "id": "d5794e9a",
   "metadata": {},
   "outputs": [
    {
     "name": "stdout",
     "output_type": "stream",
     "text": [
      "Student data saved to 'student_scores.csv'.\n"
     ]
    }
   ],
   "source": [
    "import pandas as pd\n",
    "import random\n",
    "\n",
    "# Generate 20 rows of student data\n",
    "data = {'Student ID': [f'Student{i+1}' for i in range(20)],\n",
    "        'Test Score': [random.randint(60, 100) for _ in range(20)]}\n",
    "\n",
    "# Create a DataFrame\n",
    "df = pd.DataFrame(data)\n",
    "\n",
    "# Save the DataFrame to a CSV file\n",
    "df.to_csv('student_scores.csv', index=False)\n",
    "\n",
    "print(\"Student data saved to 'student_scores.csv'.\")\n"
   ]
  },
  {
   "cell_type": "code",
   "execution_count": 53,
   "id": "86e1c186",
   "metadata": {},
   "outputs": [
    {
     "data": {
      "text/html": [
       "<div>\n",
       "<style scoped>\n",
       "    .dataframe tbody tr th:only-of-type {\n",
       "        vertical-align: middle;\n",
       "    }\n",
       "\n",
       "    .dataframe tbody tr th {\n",
       "        vertical-align: top;\n",
       "    }\n",
       "\n",
       "    .dataframe thead th {\n",
       "        text-align: right;\n",
       "    }\n",
       "</style>\n",
       "<table border=\"1\" class=\"dataframe\">\n",
       "  <thead>\n",
       "    <tr style=\"text-align: right;\">\n",
       "      <th></th>\n",
       "      <th>Student ID</th>\n",
       "      <th>Test Score</th>\n",
       "    </tr>\n",
       "  </thead>\n",
       "  <tbody>\n",
       "    <tr>\n",
       "      <th>0</th>\n",
       "      <td>Student1</td>\n",
       "      <td>99</td>\n",
       "    </tr>\n",
       "    <tr>\n",
       "      <th>1</th>\n",
       "      <td>Student2</td>\n",
       "      <td>62</td>\n",
       "    </tr>\n",
       "    <tr>\n",
       "      <th>2</th>\n",
       "      <td>Student3</td>\n",
       "      <td>89</td>\n",
       "    </tr>\n",
       "    <tr>\n",
       "      <th>3</th>\n",
       "      <td>Student4</td>\n",
       "      <td>85</td>\n",
       "    </tr>\n",
       "    <tr>\n",
       "      <th>4</th>\n",
       "      <td>Student5</td>\n",
       "      <td>91</td>\n",
       "    </tr>\n",
       "    <tr>\n",
       "      <th>5</th>\n",
       "      <td>Student6</td>\n",
       "      <td>66</td>\n",
       "    </tr>\n",
       "    <tr>\n",
       "      <th>6</th>\n",
       "      <td>Student7</td>\n",
       "      <td>87</td>\n",
       "    </tr>\n",
       "    <tr>\n",
       "      <th>7</th>\n",
       "      <td>Student8</td>\n",
       "      <td>98</td>\n",
       "    </tr>\n",
       "    <tr>\n",
       "      <th>8</th>\n",
       "      <td>Student9</td>\n",
       "      <td>80</td>\n",
       "    </tr>\n",
       "    <tr>\n",
       "      <th>9</th>\n",
       "      <td>Student10</td>\n",
       "      <td>98</td>\n",
       "    </tr>\n",
       "    <tr>\n",
       "      <th>10</th>\n",
       "      <td>Student11</td>\n",
       "      <td>65</td>\n",
       "    </tr>\n",
       "    <tr>\n",
       "      <th>11</th>\n",
       "      <td>Student12</td>\n",
       "      <td>66</td>\n",
       "    </tr>\n",
       "    <tr>\n",
       "      <th>12</th>\n",
       "      <td>Student13</td>\n",
       "      <td>85</td>\n",
       "    </tr>\n",
       "    <tr>\n",
       "      <th>13</th>\n",
       "      <td>Student14</td>\n",
       "      <td>88</td>\n",
       "    </tr>\n",
       "    <tr>\n",
       "      <th>14</th>\n",
       "      <td>Student15</td>\n",
       "      <td>69</td>\n",
       "    </tr>\n",
       "    <tr>\n",
       "      <th>15</th>\n",
       "      <td>Student16</td>\n",
       "      <td>91</td>\n",
       "    </tr>\n",
       "    <tr>\n",
       "      <th>16</th>\n",
       "      <td>Student17</td>\n",
       "      <td>83</td>\n",
       "    </tr>\n",
       "    <tr>\n",
       "      <th>17</th>\n",
       "      <td>Student18</td>\n",
       "      <td>98</td>\n",
       "    </tr>\n",
       "    <tr>\n",
       "      <th>18</th>\n",
       "      <td>Student19</td>\n",
       "      <td>88</td>\n",
       "    </tr>\n",
       "    <tr>\n",
       "      <th>19</th>\n",
       "      <td>Student20</td>\n",
       "      <td>64</td>\n",
       "    </tr>\n",
       "  </tbody>\n",
       "</table>\n",
       "</div>"
      ],
      "text/plain": [
       "   Student ID  Test Score\n",
       "0    Student1          99\n",
       "1    Student2          62\n",
       "2    Student3          89\n",
       "3    Student4          85\n",
       "4    Student5          91\n",
       "5    Student6          66\n",
       "6    Student7          87\n",
       "7    Student8          98\n",
       "8    Student9          80\n",
       "9   Student10          98\n",
       "10  Student11          65\n",
       "11  Student12          66\n",
       "12  Student13          85\n",
       "13  Student14          88\n",
       "14  Student15          69\n",
       "15  Student16          91\n",
       "16  Student17          83\n",
       "17  Student18          98\n",
       "18  Student19          88\n",
       "19  Student20          64"
      ]
     },
     "execution_count": 53,
     "metadata": {},
     "output_type": "execute_result"
    }
   ],
   "source": [
    "df"
   ]
  },
  {
   "cell_type": "code",
   "execution_count": 54,
   "id": "3b06d9ea",
   "metadata": {},
   "outputs": [
    {
     "name": "stdout",
     "output_type": "stream",
     "text": [
      "Enter the CSV file path containing student data: C:\\Users\\Sumanth\\assignments\\student_scores.csv\n",
      "  Statistic  Test Score\n",
      "0      Mean        82.6\n",
      "1    Median        86.0\n",
      "2      Mode        98.0\n"
     ]
    }
   ],
   "source": [
    "import pandas as pd\n",
    "\n",
    "# Function to calculate mean, median, and mode\n",
    "def calculate_statistics(data):\n",
    "    mean_score = data['Test Score'].mean()\n",
    "    median_score = data['Test Score'].median()\n",
    "    mode_score = data['Test Score'].mode()\n",
    "    return mean_score, median_score, mode_score\n",
    "\n",
    "# Function to display results in a table\n",
    "def display_results(mean, median, mode):\n",
    "    results_df = pd.DataFrame({\n",
    "        'Statistic': ['Mean', 'Median', 'Mode'],\n",
    "        'Test Score': [mean, median, mode[0] if not mode.empty else 'N/A']\n",
    "    })\n",
    "    print(results_df)\n",
    "\n",
    "# Prompt the user for the CSV file path\n",
    "file_path = input(\"Enter the CSV file path containing student data: \")\n",
    "\n",
    "try:\n",
    "    # Read the CSV file into a DataFrame\n",
    "    student_data = pd.read_csv(file_path)\n",
    "\n",
    "    # Calculate mean, median, and mode\n",
    "    mean_score, median_score, mode_score = calculate_statistics(student_data)\n",
    "\n",
    "    # Display the results in a table\n",
    "    display_results(mean_score, median_score, mode_score)\n",
    "\n",
    "except FileNotFoundError:\n",
    "    print(\"File not found. Please check the file path.\")\n",
    "except pd.errors.EmptyDataError:\n",
    "    print(\"The CSV file is empty or contains no data.\")\n",
    "except pd.errors.ParserError:\n",
    "    print(\"Error parsing the CSV file. Please check the file format.\")\n",
    "except KeyError:\n",
    "    print(\"Required columns 'Student ID' and 'Test Score' not found in the CSV file.\")\n",
    "except Exception as e:\n",
    "    print(f\"An error occurred: {e}\")\n"
   ]
  },
  {
   "cell_type": "code",
   "execution_count": null,
   "id": "e5fc2966",
   "metadata": {},
   "outputs": [],
   "source": []
  }
 ],
 "metadata": {
  "kernelspec": {
   "display_name": "Python 3 (ipykernel)",
   "language": "python",
   "name": "python3"
  },
  "language_info": {
   "codemirror_mode": {
    "name": "ipython",
    "version": 3
   },
   "file_extension": ".py",
   "mimetype": "text/x-python",
   "name": "python",
   "nbconvert_exporter": "python",
   "pygments_lexer": "ipython3",
   "version": "3.10.9"
  }
 },
 "nbformat": 4,
 "nbformat_minor": 5
}

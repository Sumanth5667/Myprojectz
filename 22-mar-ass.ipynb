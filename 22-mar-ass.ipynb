{
 "cells": [
  {
   "cell_type": "markdown",
   "id": "734df785",
   "metadata": {},
   "source": [
    "### Q1. Pearson correlation coefficient is a measure of the linear relationship between two variables. Suppose you have collected data on the amount of time students spend studying for an exam and their final exam scores. Calculate the Pearson correlation coefficient between these two variables and interpret the result."
   ]
  },
  {
   "cell_type": "markdown",
   "id": "7816dc92",
   "metadata": {},
   "source": [
    "To calculate the Pearson correlation coefficient between the amount of time students spend studying for an exam and their final exam scores, you can use the following formula:\n",
    "\n",
    "**Pearson Correlation Coefficient (r) = Σ [(X - X̄)(Y - Ȳ)] / [√Σ(X - X̄)² * Σ(Y - Ȳ)²]**\n",
    "\n",
    "Where:\n",
    "- X and Y are data points (study time and exam scores).\n",
    "- X̄ and Ȳ are the means of X and Y, respectively.\n",
    "\n",
    "Interpretation of the result:\n",
    "- If the Pearson correlation coefficient (r) is close to 1, it indicates a strong positive linear relationship. In this context, it would mean that students who spend more time studying tend to have higher exam scores.\n",
    "- If r is close to -1, it indicates a strong negative linear relationship, suggesting that students who spend more time studying tend to have lower exam scores.\n",
    "- If r is close to 0, it means there is little to no linear relationship between study time and exam scores. In other words, the two variables are not strongly related.\n",
    "\n",
    "The Pearson correlation coefficient provides a quantitative measure of the strength and direction of the linear relationship between these variables. The result will help you understand whether there is a significant correlation between study time and exam scores in your dataset."
   ]
  },
  {
   "cell_type": "markdown",
   "id": "41264be6",
   "metadata": {},
   "source": [
    "### Q2. Spearman's rank correlation is a measure of the monotonic relationship between two variables. Suppose you have collected data on the amount of sleep individuals get each night and their overall job satisfaction level on a scale of 1 to 10. Calculate the Spearman's rank correlation between these two variables and interpret the result."
   ]
  },
  {
   "cell_type": "markdown",
   "id": "046a0fd9",
   "metadata": {},
   "source": [
    "To calculate Spearman's rank correlation between the amount of sleep individuals get each night and their overall job satisfaction level, follow these steps:\n",
    "\n",
    "1. Rank the data: Assign ranks to both sets of data separately, from the lowest to the highest, without considering the original values.\n",
    "\n",
    "2. Calculate the differences between the ranks of the corresponding data points for both variables.\n",
    "\n",
    "3. Square these differences and sum them to get the sum of squared differences (d²).\n",
    "\n",
    "4. Use the formula for Spearman's rank correlation:\n",
    "\n",
    "   **ρ (rho) = 1 - [(6 * Σd²) / (n * (n² - 1))]**\n",
    "\n",
    "   Where:\n",
    "   - n is the number of data points.\n",
    "   - Σd² is the sum of squared rank differences.\n",
    "\n",
    "Interpretation of the result:\n",
    "- Spearman's rank correlation (ρ) ranges from -1 to 1.\n",
    "- A positive ρ close to 1 indicates a strong positive monotonic relationship, implying that individuals who get more sleep tend to report higher job satisfaction.\n",
    "- A negative ρ close to -1 suggests a strong negative monotonic relationship, indicating that individuals who get more sleep tend to report lower job satisfaction.\n",
    "- A ρ close to 0 means there's little to no monotonic relationship between the two variables, suggesting that job satisfaction is not significantly related to the amount of sleep.\n",
    "\n",
    "Spearman's rank correlation is particularly useful when the relationship between variables is monotonic but not necessarily linear. It quantifies the strength and direction of this relationship based on the ranks of the data."
   ]
  },
  {
   "cell_type": "markdown",
   "id": "d6e51009",
   "metadata": {},
   "source": [
    "### Q3. Suppose you are conducting a study to examine the relationship between the number of hours of exercise per week and body mass index (BMI) in a sample of adults. You collected data on both variables for 50 participants. Calculate the Pearson correlation coefficient and the Spearman's rank correlation between these two variables and compare the results."
   ]
  },
  {
   "cell_type": "code",
   "execution_count": 1,
   "id": "b641ecf7",
   "metadata": {},
   "outputs": [
    {
     "name": "stdout",
     "output_type": "stream",
     "text": [
      "Pearson correlation coefficient: -0.04\n",
      "Spearman's rank correlation: -0.04\n"
     ]
    }
   ],
   "source": [
    "import pandas as pd\n",
    "import numpy as np\n",
    "from scipy.stats import pearsonr, spearmanr\n",
    "\n",
    "# Create a sample dataset\n",
    "hours_of_exercise = np.random.randint(1, 10, 50)\n",
    "bmi = np.random.randint(18, 35, 50)\n",
    "\n",
    "# Calculate Pearson correlation coefficient\n",
    "pearson_corr, _ = pearsonr(hours_of_exercise, bmi)\n",
    "\n",
    "# Calculate Spearman's rank correlation\n",
    "spearman_corr, _ = spearmanr(hours_of_exercise, bmi)\n",
    "\n",
    "print(f\"Pearson correlation coefficient: {pearson_corr:.2f}\")\n",
    "print(f\"Spearman's rank correlation: {spearman_corr:.2f}\")"
   ]
  },
  {
   "cell_type": "markdown",
   "id": "a39f8917",
   "metadata": {},
   "source": [
    "##### The output of this code will be two correlation coefficients: the Pearson correlation coefficient and the Spearman’s rank correlation. The Pearson correlation coefficient measures the linear relationship between two variables and ranges from -1 to 1. A value of -1 indicates a perfect negative linear relationship, a value of 0 indicates no linear relationship, and a value of 1 indicates a perfect positive linear relationship. The Spearman’s rank correlation measures the monotonic relationship between two variables and ranges from -1 to 1. A value of -1 indicates a perfect negative monotonic relationship, a value of 0 indicates no monotonic relationship, and a value of 1 indicates a perfect positive monotonic relationship."
   ]
  },
  {
   "cell_type": "markdown",
   "id": "5a89b677",
   "metadata": {},
   "source": [
    "### Q4. A researcher is interested in examining the relationship between the number of hours individuals spend watching television per day and their level of physical activity. The researcher collected data on both variables from a sample of 50 participants. Calculate the Pearson correlation coefficient between these two variables."
   ]
  },
  {
   "cell_type": "code",
   "execution_count": 2,
   "id": "a7a972a2",
   "metadata": {},
   "outputs": [
    {
     "name": "stdout",
     "output_type": "stream",
     "text": [
      "Pearson correlation coefficient: 0.12\n"
     ]
    }
   ],
   "source": [
    "import pandas as pd\n",
    "import numpy as np\n",
    "from scipy.stats import pearsonr\n",
    "\n",
    "# Create a sample dataset\n",
    "hours_of_tv = np.random.randint(1, 10, 50)\n",
    "physical_activity = np.random.randint(1, 10, 50)\n",
    "\n",
    "# Calculate Pearson correlation coefficient\n",
    "pearson_corr, _ = pearsonr(hours_of_tv, physical_activity)\n",
    "\n",
    "print(f\"Pearson correlation coefficient: {pearson_corr:.2f}\")"
   ]
  },
  {
   "cell_type": "markdown",
   "id": "d18d86de",
   "metadata": {},
   "source": [
    "- The output of this code will be the Pearson correlation coefficient. The Pearson correlation coefficient measures the linear relationship between two variables and ranges from -1 to 1. A value of -1 indicates a perfect negative linear relationship, a value of 0 indicates no linear relationship, and a value of 1 indicates a perfect positive linear relationship.\n",
    "\n",
    "- If we apply this code to our sample dataset, we might get an output like this:\n",
    "\n",
    "- Pearson correlation coefficient: -0.05\n",
    "\n",
    "- This suggests that there is little to no relationship between the number of hours individuals spend watching television per day and their level of physical activity in our sample of 50 participants."
   ]
  },
  {
   "cell_type": "markdown",
   "id": "f6eb0a6c",
   "metadata": {},
   "source": [
    "### Q5. A survey was conducted to examine the relationship between age and preference for a particular brand of soft drink. The survey results are shown below:"
   ]
  },
  {
   "cell_type": "code",
   "execution_count": 3,
   "id": "258a521b",
   "metadata": {},
   "outputs": [],
   "source": [
    "data={\n",
    "    'age':[25,42,37,19,31,28],\n",
    "    'soft drink prefernce':['coke','pepsi','mountain dew','coke','pepsi','coke']\n",
    "}"
   ]
  },
  {
   "cell_type": "code",
   "execution_count": 4,
   "id": "84da0d3d",
   "metadata": {},
   "outputs": [],
   "source": [
    "df=pd.DataFrame(data)"
   ]
  },
  {
   "cell_type": "code",
   "execution_count": 5,
   "id": "76113d54",
   "metadata": {},
   "outputs": [
    {
     "data": {
      "text/html": [
       "<div>\n",
       "<style scoped>\n",
       "    .dataframe tbody tr th:only-of-type {\n",
       "        vertical-align: middle;\n",
       "    }\n",
       "\n",
       "    .dataframe tbody tr th {\n",
       "        vertical-align: top;\n",
       "    }\n",
       "\n",
       "    .dataframe thead th {\n",
       "        text-align: right;\n",
       "    }\n",
       "</style>\n",
       "<table border=\"1\" class=\"dataframe\">\n",
       "  <thead>\n",
       "    <tr style=\"text-align: right;\">\n",
       "      <th></th>\n",
       "      <th>age</th>\n",
       "      <th>soft drink prefernce</th>\n",
       "    </tr>\n",
       "  </thead>\n",
       "  <tbody>\n",
       "    <tr>\n",
       "      <th>0</th>\n",
       "      <td>25</td>\n",
       "      <td>coke</td>\n",
       "    </tr>\n",
       "    <tr>\n",
       "      <th>1</th>\n",
       "      <td>42</td>\n",
       "      <td>pepsi</td>\n",
       "    </tr>\n",
       "    <tr>\n",
       "      <th>2</th>\n",
       "      <td>37</td>\n",
       "      <td>mountain dew</td>\n",
       "    </tr>\n",
       "    <tr>\n",
       "      <th>3</th>\n",
       "      <td>19</td>\n",
       "      <td>coke</td>\n",
       "    </tr>\n",
       "    <tr>\n",
       "      <th>4</th>\n",
       "      <td>31</td>\n",
       "      <td>pepsi</td>\n",
       "    </tr>\n",
       "    <tr>\n",
       "      <th>5</th>\n",
       "      <td>28</td>\n",
       "      <td>coke</td>\n",
       "    </tr>\n",
       "  </tbody>\n",
       "</table>\n",
       "</div>"
      ],
      "text/plain": [
       "   age soft drink prefernce\n",
       "0   25                 coke\n",
       "1   42                pepsi\n",
       "2   37         mountain dew\n",
       "3   19                 coke\n",
       "4   31                pepsi\n",
       "5   28                 coke"
      ]
     },
     "execution_count": 5,
     "metadata": {},
     "output_type": "execute_result"
    }
   ],
   "source": [
    "df"
   ]
  },
  {
   "cell_type": "code",
   "execution_count": 6,
   "id": "4fe3dac6",
   "metadata": {},
   "outputs": [
    {
     "name": "stderr",
     "output_type": "stream",
     "text": [
      "C:\\Users\\Sumanth\\AppData\\Local\\Temp\\ipykernel_12232\\1134722465.py:1: FutureWarning: The default value of numeric_only in DataFrame.corr is deprecated. In a future version, it will default to False. Select only valid columns or specify the value of numeric_only to silence this warning.\n",
      "  df.corr()\n"
     ]
    },
    {
     "data": {
      "text/html": [
       "<div>\n",
       "<style scoped>\n",
       "    .dataframe tbody tr th:only-of-type {\n",
       "        vertical-align: middle;\n",
       "    }\n",
       "\n",
       "    .dataframe tbody tr th {\n",
       "        vertical-align: top;\n",
       "    }\n",
       "\n",
       "    .dataframe thead th {\n",
       "        text-align: right;\n",
       "    }\n",
       "</style>\n",
       "<table border=\"1\" class=\"dataframe\">\n",
       "  <thead>\n",
       "    <tr style=\"text-align: right;\">\n",
       "      <th></th>\n",
       "      <th>age</th>\n",
       "    </tr>\n",
       "  </thead>\n",
       "  <tbody>\n",
       "    <tr>\n",
       "      <th>age</th>\n",
       "      <td>1.0</td>\n",
       "    </tr>\n",
       "  </tbody>\n",
       "</table>\n",
       "</div>"
      ],
      "text/plain": [
       "     age\n",
       "age  1.0"
      ]
     },
     "execution_count": 6,
     "metadata": {},
     "output_type": "execute_result"
    }
   ],
   "source": [
    "df.corr()"
   ]
  },
  {
   "cell_type": "markdown",
   "id": "5b3a5ecf",
   "metadata": {},
   "source": [
    "### Q6. A company is interested in examining the relationship between the number of sales calls made per day and the number of sales made per week. The company collected data on both variables from a sample of 30 sales representatives. Calculate the Pearson correlation coefficient between these two variables."
   ]
  },
  {
   "cell_type": "code",
   "execution_count": 7,
   "id": "3cf742ce",
   "metadata": {},
   "outputs": [
    {
     "name": "stdout",
     "output_type": "stream",
     "text": [
      "Pearson correlation coefficient: 0.03\n"
     ]
    }
   ],
   "source": [
    "import pandas as pd\n",
    "import numpy as np\n",
    "from scipy.stats import pearsonr\n",
    "\n",
    "# Create a sample dataset\n",
    "sales_calls_per_day = np.random.randint(1, 10, 30)\n",
    "sales_per_week = np.random.randint(1, 10, 30)\n",
    "\n",
    "# Calculate Pearson correlation coefficient\n",
    "pearson_corr, _ = pearsonr(sales_calls_per_day, sales_per_week)\n",
    "\n",
    "print(f\"Pearson correlation coefficient: {pearson_corr:.2f}\")"
   ]
  },
  {
   "cell_type": "markdown",
   "id": "5efd3214",
   "metadata": {},
   "source": [
    "The output of this code will be the Pearson correlation coefficient. The Pearson correlation coefficient measures the linear relationship between two variables and ranges from -1 to 1. A value of -1 indicates a perfect negative linear relationship, a value of 0 indicates no linear relationship, and a value of 1 indicates a perfect positive linear relationship.\n",
    "\n",
    "If we apply this code to our sample dataset, we might get an output like this:\n",
    "\n",
    "Pearson correlation coefficient: -0.09\n",
    "\n",
    "This suggests that there is little to no relationship between the number of sales calls made per day and the number of sales made per week in our sample of 30 sales representatives."
   ]
  },
  {
   "cell_type": "code",
   "execution_count": null,
   "id": "3db66d32",
   "metadata": {},
   "outputs": [],
   "source": []
  }
 ],
 "metadata": {
  "kernelspec": {
   "display_name": "Python 3 (ipykernel)",
   "language": "python",
   "name": "python3"
  },
  "language_info": {
   "codemirror_mode": {
    "name": "ipython",
    "version": 3
   },
   "file_extension": ".py",
   "mimetype": "text/x-python",
   "name": "python",
   "nbconvert_exporter": "python",
   "pygments_lexer": "ipython3",
   "version": "3.10.9"
  }
 },
 "nbformat": 4,
 "nbformat_minor": 5
}

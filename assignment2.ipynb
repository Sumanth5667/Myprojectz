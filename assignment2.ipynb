{
 "cells": [
  {
   "cell_type": "raw",
   "id": "c877f986-8eec-4858-ae3d-e8285c5f04b6",
   "metadata": {},
   "source": [
    "Q1. Create a python program to sort the given list of tuples based on integer value using a\n",
    "lambda function."
   ]
  },
  {
   "cell_type": "code",
   "execution_count": 10,
   "id": "405ba7d9-45ed-40a8-9e40-9d4207c3e1ae",
   "metadata": {},
   "outputs": [
    {
     "name": "stdout",
     "output_type": "stream",
     "text": [
      "('Jack Kallis', 25534)\n",
      "('Ricky Ponting', 27483)\n",
      "('Sachin Tendulkar', 34357)\n",
      "('Virat Kohli', 24936)\n"
     ]
    }
   ],
   "source": [
    "# List of tuples\n",
    "my_list = [('Sachin Tendulkar', 34357), ('Ricky Ponting', 27483), ('Jack Kallis', 25534), ('Virat Kohli', 24936)]\n",
    "\n",
    "# Sorting the list based on the integer value using a lambda function\n",
    "sorted_list = sorted(my_list, key=lambda x: x[0])\n",
    "\n",
    "# Printing the sorted list\n",
    "for item in sorted_list:\n",
    "    print(item)\n"
   ]
  },
  {
   "cell_type": "raw",
   "id": "00e6f489-187e-4d34-954d-af818d6cf2da",
   "metadata": {},
   "source": [
    "q2)Write a Python Program to find the squares of all the numbers in the given list of integers using\n",
    "lambda and map functions."
   ]
  },
  {
   "cell_type": "code",
   "execution_count": 9,
   "id": "47e40dfe-feb8-4f31-915e-8a620d73788c",
   "metadata": {},
   "outputs": [
    {
     "name": "stdout",
     "output_type": "stream",
     "text": [
      "[1, 4, 9, 16, 25, 36, 49, 64, 81, 100]\n"
     ]
    }
   ],
   "source": [
    "# List of integers\n",
    "my_list = [1, 2, 3, 4, 5,6,7,8,9,10]\n",
    "\n",
    "# Finding the squares of all numbers using lambda and map functions\n",
    "squared_list = list(map(lambda x: x**2, my_list))\n",
    "\n",
    "# Printing the squared list\n",
    "print(squared_list)\n"
   ]
  },
  {
   "cell_type": "raw",
   "id": "b9cb8d4c-3d2c-4f89-b019-a52ac89e7e51",
   "metadata": {},
   "source": [
    "Q3. Write a python program to convert the given list of integers into a tuple of strings. Use map and\n",
    "lambda functions"
   ]
  },
  {
   "cell_type": "code",
   "execution_count": 8,
   "id": "13ff6f32-67d5-46cd-ab5d-2f27f5f3c213",
   "metadata": {},
   "outputs": [
    {
     "name": "stdout",
     "output_type": "stream",
     "text": [
      "('1', '2', '3', '4', '5', '6', '7', '8', '9', '10')\n"
     ]
    }
   ],
   "source": [
    "# List of integers\n",
    "my_list = [1, 2, 3, 4, 5, 6, 7, 8, 9, 10]\n",
    "\n",
    "# Converting the list of integers into a tuple of strings using lambda and map functions\n",
    "converted_tuple = tuple(map(lambda x: str(x), my_list))\n",
    "\n",
    "# Printing the converted tuple\n",
    "print(converted_tuple)\n"
   ]
  },
  {
   "cell_type": "raw",
   "id": "b88309d7-a15b-4a7f-8513-92cfd9fd177e",
   "metadata": {},
   "source": [
    "Q4. Write a python program using reduce function to compute the product of a list containing numbers\n",
    "from 1 to 25."
   ]
  },
  {
   "cell_type": "code",
   "execution_count": 4,
   "id": "66178db0-1713-4923-aff3-49b63f337cc5",
   "metadata": {},
   "outputs": [
    {
     "name": "stdout",
     "output_type": "stream",
     "text": [
      "15511210043330985984000000\n"
     ]
    }
   ],
   "source": [
    "from functools import reduce\n",
    "\n",
    "# List of numbers from 1 to 25\n",
    "my_list = list(range(1, 26))\n",
    "\n",
    "# Computing the product using the reduce function\n",
    "product = reduce(lambda x, y: x * y, my_list)\n",
    "\n",
    "# Printing the product\n",
    "print(product)\n"
   ]
  },
  {
   "cell_type": "raw",
   "id": "2e5fa6d4-811c-4937-8374-939aa69241e6",
   "metadata": {},
   "source": [
    "Q5. Write a python program to filter the numbers in a given list that are divisible by 2 and 3 using the\n",
    "filter function."
   ]
  },
  {
   "cell_type": "code",
   "execution_count": 7,
   "id": "d17abd54-a01a-41fc-8800-56b5e79a15a4",
   "metadata": {},
   "outputs": [
    {
     "name": "stdout",
     "output_type": "stream",
     "text": [
      "[6, 60, 90, 120]\n"
     ]
    }
   ],
   "source": [
    "# List of numbers\n",
    "my_list = [2, 3, 6, 9, 27, 60, 90, 120, 55, 46]\n",
    "\n",
    "# Filtering the numbers divisible by 2 and 3 using the filter function\n",
    "filtered_list = list(filter(lambda x: x % 2 == 0 and x % 3 == 0, my_list))\n",
    "\n",
    "# Printing the filtered list\n",
    "print(filtered_list)\n"
   ]
  },
  {
   "cell_type": "code",
   "execution_count": null,
   "id": "23459390-5a69-427e-b0dd-f8c24cd7131d",
   "metadata": {},
   "outputs": [],
   "source": []
  }
 ],
 "metadata": {
  "kernelspec": {
   "display_name": "Python 3 (ipykernel)",
   "language": "python",
   "name": "python3"
  },
  "language_info": {
   "codemirror_mode": {
    "name": "ipython",
    "version": 3
   },
   "file_extension": ".py",
   "mimetype": "text/x-python",
   "name": "python",
   "nbconvert_exporter": "python",
   "pygments_lexer": "ipython3",
   "version": "3.10.8"
  }
 },
 "nbformat": 4,
 "nbformat_minor": 5
}

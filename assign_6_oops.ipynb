{
 "cells": [
  {
   "cell_type": "markdown",
   "id": "9f16b232-b4ae-4f76-8acc-b6768baff12f",
   "metadata": {},
   "source": [
    "Q1, Create a vehicle class with an init method having instance variables as name_of_vehicle, max_speed \n",
    "and average_of_vehicle. "
   ]
  },
  {
   "cell_type": "code",
   "execution_count": 1,
   "id": "7d167a70-8033-4d43-b7f0-5f33cc5dacbd",
   "metadata": {},
   "outputs": [
    {
     "name": "stdout",
     "output_type": "stream",
     "text": [
      "8 450 kmph bmw m5\n"
     ]
    }
   ],
   "source": [
    "class vehicle:\n",
    "    def __init__(self,name_of_vehicle, max_speed, average_of_vehicle):\n",
    "        self.name_of_vehicle=name_of_vehicle\n",
    "        self.max_speed=max_speed\n",
    "        self.average_of_vehicle=average_of_vehicle\n",
    "    def display(self):\n",
    "        print(self.average_of_vehicle,self.max_speed,self.name_of_vehicle)\n",
    "v=vehicle('bmw m5','450 kmph','8')\n",
    "v.display()"
   ]
  },
  {
   "cell_type": "markdown",
   "id": "c2687133-913f-4e43-b176-0365d766d425",
   "metadata": {},
   "source": [
    "Q2.  Create a child class car from the vehicle class created in Que 1, which will inherit the vehicle class. \n",
    "Create a method named seating_capacity which takes capacity as an argument and returns the name of \n",
    "the vehicle and its seating capacity"
   ]
  },
  {
   "cell_type": "code",
   "execution_count": 6,
   "id": "4a69bafe-92d5-4806-b4c1-8cdc44c8ff77",
   "metadata": {},
   "outputs": [
    {
     "data": {
      "text/plain": [
       "(4, 'bmw')"
      ]
     },
     "execution_count": 6,
     "metadata": {},
     "output_type": "execute_result"
    }
   ],
   "source": [
    "class vehicle:\n",
    "    def __init__(self,name_of_vehicle, max_speed, average_of_vehicle):\n",
    "        self.name_of_vehicle=name_of_vehicle\n",
    "        self.max_speed=max_speed\n",
    "        self.average_of_vehicle=average_of_vehicle\n",
    "class car(vehicle):\n",
    "    def seating_capacity(self,capacity):\n",
    "        return capacity,self.name_of_vehicle\n",
    "c1=car('bmw',500,8.7)\n",
    "capacity=4\n",
    "c1.seating_capacity(capacity)"
   ]
  },
  {
   "cell_type": "markdown",
   "id": "b02580e1-30e3-42de-bbdc-e6bd08167b06",
   "metadata": {},
   "source": [
    "Q3. What is multiple inheritance? Write a python code to demonstrate multiple inheritance."
   ]
  },
  {
   "cell_type": "raw",
   "id": "08b4237c-3a20-4131-bc90-97c9a1be19e5",
   "metadata": {},
   "source": [
    "Multiple inheritance is a feature in object-oriented programming where a class can inherit attributes and methods from multiple base classes. In multiple inheritance, a derived class can inherit from two or more base classes, allowing it to combine and reuse the functionalities of those classes.\n",
    "\n",
    "In multiple inheritance, the derived class inherits all the attributes and methods from each of the base classes. This means that the derived class can access and use the attributes and methods of all the base classes as if they were defined within the derived class itself."
   ]
  },
  {
   "cell_type": "code",
   "execution_count": 7,
   "id": "674b95ec-0a25-4aab-a71f-5f27d7b6fb84",
   "metadata": {},
   "outputs": [
    {
     "name": "stdout",
     "output_type": "stream",
     "text": [
      "i am parent method1\n",
      "i am parent method2\n",
      "i am child method\n"
     ]
    }
   ],
   "source": [
    "class parent1:\n",
    "    def method1(self):\n",
    "        print('i am parent method1')\n",
    "class parent2:\n",
    "    def method2(self):\n",
    "        print('i am parent method2')\n",
    "class child(parent1,parent2):\n",
    "    def method3(self):\n",
    "        print('i am child method')\n",
    "c1=child()\n",
    "c1.method1()\n",
    "c1.method2()\n",
    "c1.method3()"
   ]
  },
  {
   "cell_type": "markdown",
   "id": "b3c05343-dbc3-4a1b-9fe2-6c8a48b1c85e",
   "metadata": {},
   "source": [
    "Q4. What are getter and setter in python? Create a class and create a getter and a setter method in this \n",
    "class."
   ]
  },
  {
   "cell_type": "raw",
   "id": "2d54f852-b4a5-4982-9f40-effd72d6084e",
   "metadata": {},
   "source": [
    "In Python, getters and setters are methods that are used to access and modify the values of private attributes of a class. They provide an interface to get and set the values of the attributes while encapsulating the implementation details.\n",
    "\n",
    "Getters, also known as accessor methods, are used to retrieve the value of a private attribute. They ensure controlled access to the attribute by returning its value when called.\n",
    "\n",
    "Setters, also known as mutator methods, are used to modify the value of a private attribute. They provide a controlled way to update the attribute by taking a new value as an argument and assigning it to the attribute."
   ]
  },
  {
   "cell_type": "code",
   "execution_count": 8,
   "id": "c713cf4f-b65e-4455-a675-73efc1c37eaa",
   "metadata": {},
   "outputs": [
    {
     "name": "stdout",
     "output_type": "stream",
     "text": [
      "Name: Alice\n",
      "New Name: Bob\n"
     ]
    }
   ],
   "source": [
    "class Person:\n",
    "    def __init__(self, name):\n",
    "        self._name = name  # Private attribute\n",
    "    def get_name(self):\n",
    "        return self._name\n",
    "    def set_name(self, new_name):\n",
    "        self._name = new_name\n",
    "# Creating an instance of the Person class\n",
    "person = Person(\"Alice\")\n",
    "# Using the getter to retrieve the name\n",
    "name = person.get_name()\n",
    "print(\"Name:\", name)  # Output: Name: Alice\n",
    "# Using the setter to modify the name\n",
    "person.set_name(\"Bob\")\n",
    "name = person.get_name()\n",
    "print(\"New Name:\", name)  # Output: New Name: Bob\n"
   ]
  },
  {
   "cell_type": "markdown",
   "id": "2c04106a-8e93-4cda-9922-6cee215b9793",
   "metadata": {},
   "source": [
    "Q5.What is method overriding in python? Write a python code to demonstrate method overridin"
   ]
  },
  {
   "cell_type": "raw",
   "id": "a7ba097d-675d-4845-aec4-2115a39e6c27",
   "metadata": {},
   "source": [
    "Method overriding in Python is a concept where a subclass provides a different implementation of a method that is already defined in its superclass. It allows a subclass to modify or extend the behavior of the inherited method from its superclass.\n",
    "\n",
    "When a method is overridden in the subclass, the version of the method in the subclass is called instead of the method in the superclass when the method is invoked on an instance of the subclass."
   ]
  },
  {
   "cell_type": "code",
   "execution_count": 9,
   "id": "8c3bc148-477c-4f39-8ee8-eb80a3177806",
   "metadata": {},
   "outputs": [
    {
     "name": "stdout",
     "output_type": "stream",
     "text": [
      "Animal makes a sound.\n",
      "Dog barks.\n"
     ]
    }
   ],
   "source": [
    "class Animal:\n",
    "    def make_sound(self):\n",
    "        print(\"Animal makes a sound.\")\n",
    "\n",
    "\n",
    "class Dog(Animal):\n",
    "    def make_sound(self):\n",
    "        print(\"Dog barks.\")\n",
    "\n",
    "\n",
    "# Creating instances of the classes\n",
    "animal = Animal()\n",
    "dog = Dog()\n",
    "\n",
    "# Invoking the overridden method\n",
    "animal.make_sound()  # Output: Animal makes a sound.\n",
    "dog.make_sound()     # Output: Dog barks.\n"
   ]
  },
  {
   "cell_type": "code",
   "execution_count": null,
   "id": "18631da1-1868-49e0-9695-d613a2b3170d",
   "metadata": {},
   "outputs": [],
   "source": []
  }
 ],
 "metadata": {
  "kernelspec": {
   "display_name": "Python 3 (ipykernel)",
   "language": "python",
   "name": "python3"
  },
  "language_info": {
   "codemirror_mode": {
    "name": "ipython",
    "version": 3
   },
   "file_extension": ".py",
   "mimetype": "text/x-python",
   "name": "python",
   "nbconvert_exporter": "python",
   "pygments_lexer": "ipython3",
   "version": "3.10.8"
  }
 },
 "nbformat": 4,
 "nbformat_minor": 5
}

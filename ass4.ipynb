{
 "cells": [
  {
   "cell_type": "raw",
   "id": "53af8b2d-c942-4897-a4a7-e9058e5eb052",
   "metadata": {},
   "source": [
    "Q1. How do you comment code in Python? What are the different types of comments?"
   ]
  },
  {
   "cell_type": "raw",
   "id": "7d43c183-42a2-4803-9ddc-1e1c3d3eada1",
   "metadata": {},
   "source": [
    "ans:\n",
    "In Python, you can add comments to your code to provide explanations or document its functionality. There are two types of comments in Python: single-line comments and multi-line comments.\n",
    "\n",
    "Single-line comments: To add a single-line comment, you can use the hash symbol (#) at the beginning of the line. Anything after the hash symbol on that line will be ignored by the Python interpreter. Here's an example:"
   ]
  },
  {
   "cell_type": "code",
   "execution_count": 1,
   "id": "d0fb4901-aba6-41b9-8d55-4bb9c5975615",
   "metadata": {},
   "outputs": [],
   "source": [
    "# This is a single-line comment\n"
   ]
  },
  {
   "cell_type": "raw",
   "id": "92ed758b-638b-4c23-bc65-fdd1a995bcf1",
   "metadata": {},
   "source": [
    "Multi-line comments: To add comments that span multiple lines, you can use triple quotes (''' ''') or triple double quotes (\"\"\" \"\"\"). This allows you to write comments that cover several lines. Here's an example:"
   ]
  },
  {
   "cell_type": "code",
   "execution_count": 4,
   "id": "f050c702-4443-4f52-9699-225fd16b3210",
   "metadata": {},
   "outputs": [],
   "source": [
    "def add_numbers(a, b):\n",
    "    \"\"\"\n",
    "    This function adds two numbers and returns the result.\n",
    "    Parameters:\n",
    "    - a: the first number\n",
    "    - b: the second number\n",
    "    Returns:\n",
    "    - The sum of the two numbers\n",
    "    \"\"\"\n",
    "    return a + b\n"
   ]
  },
  {
   "cell_type": "raw",
   "id": "8cdb8f6d-780c-4666-a4a2-f8a3a70d842c",
   "metadata": {},
   "source": [
    "Q2. What are variables in Python? How do you declare and assign values to variables?"
   ]
  },
  {
   "cell_type": "raw",
   "id": "f9d49dc8-341c-4d62-bbde-6b22617062fc",
   "metadata": {},
   "source": [
    "ans:\n",
    "In Python, variables are used to store data values that can be accessed and manipulated during the program's execution. A variable is essentially a name that refers to a specific memory location where the data is stored."
   ]
  },
  {
   "cell_type": "raw",
   "id": "bb5fb5ec-c2ee-4c8e-84c2-605d6222a020",
   "metadata": {},
   "source": [
    "To declare and assign a value to a variable in Python, you simply use the assignment operator (=). Here's the general syntax:"
   ]
  },
  {
   "cell_type": "code",
   "execution_count": 7,
   "id": "80567697-eabb-4562-940c-c7756ded86f7",
   "metadata": {},
   "outputs": [],
   "source": [
    "variable_name = 55\n"
   ]
  },
  {
   "cell_type": "code",
   "execution_count": 8,
   "id": "8046514d-9e46-4c47-bfdc-98040f9d5e1c",
   "metadata": {},
   "outputs": [],
   "source": [
    "name = \"John\"\n",
    "age = 25\n",
    "height = 1.75\n"
   ]
  },
  {
   "cell_type": "raw",
   "id": "7f48d805-7068-4032-8669-47a231ce7334",
   "metadata": {},
   "source": [
    "Q3. How do you convert one data type to another in Python?"
   ]
  },
  {
   "cell_type": "raw",
   "id": "29288b06-e26e-4d9a-874e-34ffe29a7a43",
   "metadata": {},
   "source": [
    "In Python, you can convert one data type to another using type conversion functions or constructors. Here are some commonly used type conversion functions:\n",
    "\n",
    "int(): Converts a value to an integer data type.\n",
    "float(): Converts a value to a floating-point data type.\n",
    "str(): Converts a value to a string data type.\n",
    "bool(): Converts a value to a boolean data type."
   ]
  },
  {
   "cell_type": "code",
   "execution_count": 10,
   "id": "acadae1f-bcfa-4c70-a767-b11229bc2cda",
   "metadata": {},
   "outputs": [
    {
     "name": "stdout",
     "output_type": "stream",
     "text": [
      "25\n",
      "10.0\n",
      "3.14159\n",
      "1\n"
     ]
    }
   ],
   "source": [
    "# Convert a string to an integer\n",
    "age = \"25\"\n",
    "age_int = int(age)\n",
    "print(age_int)  # Output: 25\n",
    "\n",
    "# Convert an integer to a float\n",
    "num = 10\n",
    "num_float = float(num)\n",
    "print(num_float)  # Output: 10.0\n",
    "\n",
    "# Convert a float to a string\n",
    "pi = 3.14159\n",
    "pi_str = str(pi)\n",
    "print(pi_str)  # Output: \"3.14159\"\n",
    "\n",
    "# Convert a boolean to an integer\n",
    "is_true = True\n",
    "is_true_int = int(is_true)\n",
    "print(is_true_int)  # Output: 1\n"
   ]
  },
  {
   "cell_type": "code",
   "execution_count": 11,
   "id": "a7f73aab-3160-4a1c-9048-a5b6c623128a",
   "metadata": {},
   "outputs": [
    {
     "name": "stdout",
     "output_type": "stream",
     "text": [
      "['H', 'e', 'l', 'l', 'o', ',', ' ', 'W', 'o', 'r', 'l', 'd', '!']\n",
      "[1, 2, 3]\n",
      "{'name': 'John', 'age': 25}\n"
     ]
    }
   ],
   "source": [
    "# Convert a string to a list\n",
    "my_string = \"Hello, World!\"\n",
    "my_list = list(my_string)\n",
    "print(my_list)  # Output: ['H', 'e', 'l', 'l', 'o', ',', ' ', 'W', 'o', 'r', 'l', 'd', '!']\n",
    "\n",
    "# Convert a tuple to a list\n",
    "my_tuple = (1, 2, 3)\n",
    "my_list = list(my_tuple)\n",
    "print(my_list)  # Output: [1, 2, 3]\n",
    "\n",
    "# Convert a list of key-value pairs to a dictionary\n",
    "my_list = [(\"name\", \"John\"), (\"age\", 25)]\n",
    "my_dict = dict(my_list)\n",
    "print(my_dict)  # Output: {'name': 'John', 'age': 25}\n"
   ]
  },
  {
   "cell_type": "raw",
   "id": "a7f24e37-3aa9-442b-9d80-a7d4e71e5b00",
   "metadata": {},
   "source": [
    "Q4. How do you write and execute a Python script from the command line?"
   ]
  },
  {
   "cell_type": "raw",
   "id": "b2c8b71d-128b-4e4e-91c6-16f4bf28eb11",
   "metadata": {},
   "source": [
    "To write and execute a Python script from the command line, follow these steps:\n",
    "\n",
    "1. Open a text editor and create a new file. You can use any text editor, such as Notepad, Sublime Text, Visual Studio Code, or any other editor of your choice.\n",
    "\n",
    "2. Write your Python code in the file. For example, let's create a simple script that prints \"Hello, World!\" to the console:\n",
    "\n",
    "3. Save the file with a `.py` extension. For example, save the file as `hello.py`.\n",
    "\n",
    "4. Open the command line or terminal on your computer. The process of opening the command line may vary depending on your operating system (e.g., Command Prompt on Windows, Terminal on macOS or Linux).\n",
    "\n",
    "5. Navigate to the directory where you saved your Python script using the `cd` command. For example, if your script is saved in the `Documents` folder, you can navigate to it using the following command on Windows:\n",
    "\n",
    "6. Once you are in the correct directory, you can execute the Python script by running the following command:\n",
    "\n",
    "\n",
    "   This command tells the Python interpreter to execute the script `hello.py`, and the output, in this case, will be \"Hello, World!\" printed to the console.\n",
    "\n",
    "That's it! You have successfully written and executed a Python script from the command line. You can modify the script in the text editor, save the changes, and run it again to see the updated results."
   ]
  },
  {
   "cell_type": "raw",
   "id": "4ecc7871-2e6d-4920-ab61-45346236fdb8",
   "metadata": {},
   "source": [
    "Q5. Given a list my_list = [1, 2, 3, 4, 5], write the code to slice the list and obtain the sub-list [2, 3]."
   ]
  },
  {
   "cell_type": "code",
   "execution_count": 12,
   "id": "78b6d863-7e13-4c27-a490-1c9ef54d3bf9",
   "metadata": {},
   "outputs": [
    {
     "name": "stdout",
     "output_type": "stream",
     "text": [
      "[2, 3]\n"
     ]
    }
   ],
   "source": [
    "my_list = [1, 2, 3, 4, 5]\n",
    "sub_list = my_list[1:3]\n",
    "print(sub_list)  # Output: [2, 3]\n"
   ]
  },
  {
   "cell_type": "raw",
   "id": "83821ac7-4990-4d6a-a0ec-0f82b9b2e994",
   "metadata": {},
   "source": [
    "Q6. What is a complex number in mathematics, and how is it represented in Python?"
   ]
  },
  {
   "cell_type": "raw",
   "id": "d83cc691-d962-4be3-aa82-e2f675465494",
   "metadata": {},
   "source": [
    "In mathematics, a complex number is a number of the form a + bi, where a and b are real numbers and i is the imaginary unit, defined as the square root of -1. The real part (a) represents the real number component, and the imaginary part (b) represents the imaginary number component.\n",
    "\n",
    "In Python, complex numbers are represented using the complex data type. The imaginary part is denoted by the letter j, instead of i, to avoid confusion with the commonly used variable i for iteration. Here's the general syntax to create a complex number in Python:"
   ]
  },
  {
   "cell_type": "code",
   "execution_count": 13,
   "id": "598dc891-65c2-4b6d-b366-c90cc56d41b4",
   "metadata": {},
   "outputs": [
    {
     "name": "stdout",
     "output_type": "stream",
     "text": [
      "3.0\n",
      "2.0\n",
      "(4+3j)\n",
      "(1+5j)\n"
     ]
    }
   ],
   "source": [
    "# Create a complex number\n",
    "z = 3 + 2j\n",
    "\n",
    "# Access the real and imaginary parts\n",
    "real_part = z.real\n",
    "imaginary_part = z.imag\n",
    "print(real_part)  # Output: 3.0\n",
    "print(imaginary_part)  # Output: 2.0\n",
    "\n",
    "# Perform arithmetic operations with complex numbers\n",
    "w = 1 + 1j\n",
    "sum_result = z + w\n",
    "product_result = z * w\n",
    "print(sum_result)  # Output: (4+3j)\n",
    "print(product_result)  # Output: (1+5j)\n"
   ]
  },
  {
   "cell_type": "raw",
   "id": "8d582265-6d94-4ff4-a5ce-9339369b9b8d",
   "metadata": {},
   "source": [
    "Q7. What is the correct way to declare a variable named age and assign the value 25 to it?"
   ]
  },
  {
   "cell_type": "raw",
   "id": "1ee77aaf-3bf0-46f4-88f1-2706046e7b9f",
   "metadata": {},
   "source": [
    "In this example, the variable age is declared and assigned the value 25 using the assignment operator (=). The variable name (age) is on the left side of the assignment operator, and the value (25) is on the right side.\n",
    "\n",
    "It's important to note that in Python, variable names are case-sensitive, meaning age, Age, and AGE are treated as distinct variables. Also, Python uses dynamic typing, so you don't need to explicitly declare the data type of the variable. The type of the variable is determined automatically based on the assigned value.\n",
    "\n",
    "You can use the variable age in your code to perform calculations, comparisons, or any other operations as needed."
   ]
  },
  {
   "cell_type": "code",
   "execution_count": 14,
   "id": "a1609abf-3797-459c-932a-44bd92b4ebda",
   "metadata": {},
   "outputs": [],
   "source": [
    "age = 25\n"
   ]
  },
  {
   "cell_type": "raw",
   "id": "24a1a57f-162a-4171-ac95-ae2890aecb96",
   "metadata": {},
   "source": [
    "Q8. Declare a variable named price and assign the value 9.99 to it. What data type does this variable\n",
    "belong to?"
   ]
  },
  {
   "cell_type": "code",
   "execution_count": 15,
   "id": "f30f2013-b5a7-42c7-a066-69c7a99d1ee7",
   "metadata": {},
   "outputs": [],
   "source": [
    "price=9.88"
   ]
  },
  {
   "cell_type": "code",
   "execution_count": 16,
   "id": "4be29895-3fec-4c25-950c-7b3626fa5dbc",
   "metadata": {},
   "outputs": [
    {
     "data": {
      "text/plain": [
       "float"
      ]
     },
     "execution_count": 16,
     "metadata": {},
     "output_type": "execute_result"
    }
   ],
   "source": [
    "type(price)"
   ]
  },
  {
   "cell_type": "raw",
   "id": "677b31a3-9c9e-4baa-b3d8-59e63935a094",
   "metadata": {},
   "source": [
    "Q9. Create a variable named name and assign your full name to it as a string. How would you print the\n",
    "value of this variable?"
   ]
  },
  {
   "cell_type": "code",
   "execution_count": 17,
   "id": "b1ffcbc1-131b-426c-9e57-fb08376e421e",
   "metadata": {},
   "outputs": [
    {
     "name": "stdout",
     "output_type": "stream",
     "text": [
      "sumanth nimmagadda\n"
     ]
    }
   ],
   "source": [
    "name='sumanth nimmagadda'\n",
    "print(name)"
   ]
  },
  {
   "cell_type": "markdown",
   "id": "ac49a5df-b823-4da8-89f6-dad93babddfb",
   "metadata": {},
   "source": [
    "Q10. Given the string \"Hello, World!\", extract the substring \"World\"."
   ]
  },
  {
   "cell_type": "code",
   "execution_count": 18,
   "id": "cd939572-0617-4d0c-aeeb-7ff3666af2a5",
   "metadata": {},
   "outputs": [
    {
     "name": "stdout",
     "output_type": "stream",
     "text": [
      "World\n"
     ]
    }
   ],
   "source": [
    "string = \"Hello, World!\"\n",
    "substring = string[7:12]\n",
    "print(substring)  # Output: \"World\"\n"
   ]
  },
  {
   "cell_type": "code",
   "execution_count": null,
   "id": "968528f3-6e2f-4b23-8989-573ae9f90676",
   "metadata": {},
   "outputs": [],
   "source": []
  }
 ],
 "metadata": {
  "kernelspec": {
   "display_name": "Python 3 (ipykernel)",
   "language": "python",
   "name": "python3"
  },
  "language_info": {
   "codemirror_mode": {
    "name": "ipython",
    "version": 3
   },
   "file_extension": ".py",
   "mimetype": "text/x-python",
   "name": "python",
   "nbconvert_exporter": "python",
   "pygments_lexer": "ipython3",
   "version": "3.10.8"
  }
 },
 "nbformat": 4,
 "nbformat_minor": 5
}

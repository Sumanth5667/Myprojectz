{
 "cells": [
  {
   "cell_type": "markdown",
   "id": "c343d00a",
   "metadata": {},
   "source": [
    "### Q1. What is the Probability density function?"
   ]
  },
  {
   "cell_type": "markdown",
   "id": "96beeace",
   "metadata": {},
   "source": [
    "The Probability Density Function (PDF) is a concept in probability and statistics that describes the likelihood of a continuous random variable taking on a specific value within a given range. In essence, it is a function that specifies the probability of the random variable falling within an infinitesimally small interval around a particular value.\n",
    "\n",
    "Mathematically, for a continuous random variable X, the PDF is represented as f(x), where:\n",
    "\n",
    "f(x) ≥ 0 for all x (non-negative)\n",
    "The integral of f(x) over its entire range equals 1: ∫f(x)dx = 1\n",
    "To understand this concept better, consider a continuous random variable like the height of individuals in a population. The PDF would provide the probability of an individual having a height within a specific range (e.g., between 5 feet and 5.5 feet).\n",
    "\n",
    "The PDF doesn't give you the exact probability of the random variable being exactly equal to a specific value (e.g., P(X = 5.2)), as the probability of an exact value for a continuous random variable is infinitesimal. Instead, it tells you the probability of the variable falling within a range.\n",
    "\n",
    "To calculate the probability of X falling within a specific interval [a, b], you would integrate the PDF f(x) over that interval:\n",
    "\n",
    "P(a ≤ X ≤ b) = ∫(from a to b) f(x) dx\n",
    "\n",
    "In summary, the Probability Density Function is a fundamental concept in probability and statistics used to model and analyze continuous random variables, providing information about the likelihood of the variable taking on values within specific intervals."
   ]
  },
  {
   "cell_type": "markdown",
   "id": "a0d6dc51",
   "metadata": {},
   "source": [
    "### Q2. What are the types of Probability distribution?"
   ]
  },
  {
   "cell_type": "markdown",
   "id": "e90ca49e",
   "metadata": {},
   "source": [
    "In probability theory and statistics, there are several types of probability distributions, each of which describes how the values of a random variable are distributed. Here are some of the most common types of probability distributions:\n",
    "\n",
    "1. **Continuous Distributions:**\n",
    "   - **Normal Distribution (Gaussian Distribution):** A symmetric, bell-shaped distribution characterized by its mean (μ) and standard deviation (σ). It's widely used due to the Central Limit Theorem.\n",
    "   - **Uniform Distribution:** All values in the distribution have equal probability. It's often used when all outcomes are equally likely.\n",
    "   - **Exponential Distribution:** Models the time between events in a Poisson process. It has a memoryless property.\n",
    "   - **Log-Normal Distribution:** The logarithm of a variable follows a normal distribution. It's used for variables that are naturally positive and skewed.\n",
    "\n",
    "2. **Discrete Distributions:**\n",
    "   - **Bernoulli Distribution:** Models two possible outcomes (e.g., success or failure) with probabilities p and q (where q = 1 - p).\n",
    "   - **Binomial Distribution:** Represents the number of successes (k) in a fixed number of independent Bernoulli trials (n).\n",
    "   - **Poisson Distribution:** Models the number of events occurring in a fixed interval of time or space, assuming a constant rate.\n",
    "   - **Geometric Distribution:** Models the number of trials needed for the first success in a sequence of Bernoulli trials.\n",
    "   - **Hypergeometric Distribution:** Models the probability of drawing specific items from a finite population without replacement.\n",
    "   - **Multinomial Distribution:** Generalization of the binomial distribution for multiple categories or outcomes.\n",
    "   - **Negative Binomial Distribution:** Models the number of trials required until a fixed number of successes are achieved.\n",
    "   - **Discrete Uniform Distribution:** All outcomes are equally likely, but they are discrete.\n",
    "\n",
    "3. **Other Distributions:**\n",
    "   - **Gamma Distribution:** Generalizes the exponential distribution and is used in various applications.\n",
    "   - **Chi-Square Distribution:** Used in hypothesis testing, particularly in tests of independence and goodness of fit.\n",
    "   - **Student's t-Distribution:** Used for estimating population parameters when the sample size is small and the population standard deviation is unknown.\n",
    "   - **F-Distribution:** Used in the analysis of variance (ANOVA) and other statistical tests.\n",
    "\n",
    "These are just some of the common probability distributions in statistics. The choice of distribution depends on the nature of the data and the specific problem being analyzed. Different distributions have different properties and applications, and they play a crucial role in statistical modeling and inference."
   ]
  },
  {
   "cell_type": "markdown",
   "id": "d19754f1",
   "metadata": {},
   "source": [
    "### Q3. Write a Python function to calculate the probability density function of a normal distribution withgiven mean and standard deviation at a given point."
   ]
  },
  {
   "cell_type": "code",
   "execution_count": 1,
   "id": "fa8f78f8",
   "metadata": {},
   "outputs": [
    {
     "name": "stdout",
     "output_type": "stream",
     "text": [
      "PDF at x = 1.5: 0.12951759566589174\n"
     ]
    }
   ],
   "source": [
    "import numpy as np\n",
    "import scipy.stats as stats\n",
    "\n",
    "def calculate_normal_pdf(x, mean, std_dev):\n",
    "    \"\"\"\n",
    "    Calculate the Probability Density Function (PDF) of a normal distribution\n",
    "    at a given point.\n",
    "    \n",
    "    Parameters:\n",
    "    - x: The point at which to calculate the PDF.\n",
    "    - mean: The mean (average) of the normal distribution.\n",
    "    - std_dev: The standard deviation of the normal distribution.\n",
    "    \n",
    "    Returns:\n",
    "    - pdf: The PDF value at the specified point.\n",
    "    \"\"\"\n",
    "    pdf = stats.norm.pdf(x, loc=mean, scale=std_dev)\n",
    "    return pdf\n",
    "\n",
    "# Example usage:\n",
    "mean = 0       # Mean of the normal distribution\n",
    "std_dev = 1.0  # Standard deviation of the normal distribution\n",
    "x_value = 1.5  # Point at which to calculate the PDF\n",
    "\n",
    "pdf_value = calculate_normal_pdf(x_value, mean, std_dev)\n",
    "print(f\"PDF at x = {x_value}: {pdf_value}\")\n"
   ]
  },
  {
   "cell_type": "markdown",
   "id": "2be9aba7",
   "metadata": {},
   "source": [
    "### Q4. What are the properties of Binomial distribution? Give two examples of events where binomial\n",
    "distribution can be applied."
   ]
  },
  {
   "cell_type": "markdown",
   "id": "2fa9b2f9",
   "metadata": {},
   "source": [
    "The Binomial distribution is a probability distribution that models the number of successes (usually denoted as \"k\") in a fixed number of independent Bernoulli trials (n), where each trial has only two possible outcomes: success (usually denoted as \"p\") or failure (usually denoted as \"q\" where q = 1 - p). The properties of the Binomial distribution include:\n",
    "\n",
    "1. **Discreteness:** The Binomial distribution deals with discrete random variables, which means that the number of successes can only take on integer values.\n",
    "\n",
    "2. **Fixed Number of Trials (n):** The distribution assumes a fixed number of independent trials or experiments, each with the same probability of success.\n",
    "\n",
    "3. **Independence:** The trials are assumed to be independent of each other, meaning the outcome of one trial does not affect the outcome of another.\n",
    "\n",
    "4. **Constant Probability of Success (p):** The probability of success (p) remains constant across all trials.\n",
    "\n",
    "5. **Two Possible Outcomes:** Each trial has only two possible outcomes: success (with probability p) or failure (with probability q).\n",
    "\n",
    "6. **Probability Mass Function:** The probability mass function (PMF) of the Binomial distribution is given by the binomial coefficient and is defined as:\n",
    "   P(X = k) = C(n, k) * p^k * q^(n-k)\n",
    "\n",
    "   where:\n",
    "   - P(X = k) is the probability of k successes.\n",
    "   - C(n, k) is the binomial coefficient (number of ways to choose k successes out of n trials).\n",
    "   - p^k is the probability of k successes.\n",
    "   - q^(n-k) is the probability of (n-k) failures.\n",
    "\n",
    "Two examples of events where the Binomial distribution can be applied are:\n",
    "\n",
    "1. **Coin Tosses:** When flipping a fair coin (with a known probability of success, p = 0.5 for heads), the number of heads obtained in a fixed number of trials (e.g., 10 coin flips) follows a Binomial distribution. You can calculate the probability of getting a specific number of heads in those trials.\n",
    "\n",
    "2. **Manufacturing Quality Control:** In a manufacturing process, you may inspect a random sample of products to determine how many meet a certain quality standard (success) and how many do not (failure). The number of products meeting the quality standard in a fixed sample size follows a Binomial distribution. You can use this distribution to calculate the probability of a specific number of acceptable products in the sample.\n",
    "\n",
    "The Binomial distribution is a fundamental concept in probability and statistics and is widely applied in various fields, including statistics, quality control, biology, and finance, to model and analyze events with two possible outcomes."
   ]
  },
  {
   "cell_type": "markdown",
   "id": "93cb01bb",
   "metadata": {},
   "source": [
    "### Q5. Generate a random sample of size 1000 from a binomial distribution with probability of success 0.4and plot a histogram of the results using matplotlib."
   ]
  },
  {
   "cell_type": "code",
   "execution_count": 2,
   "id": "be50592f",
   "metadata": {},
   "outputs": [
    {
     "data": {
      "image/png": "[encoded data removed]",
      "text/plain": [
       "<Figure size 640x480 with 1 Axes>"
      ]
     },
     "metadata": {},
     "output_type": "display_data"
    }
   ],
   "source": [
    "import numpy as np\n",
    "import matplotlib.pyplot as plt\n",
    "\n",
    "# Parameters\n",
    "n = 1000  # Sample size\n",
    "p = 0.4   # Probability of success\n",
    "\n",
    "# Generate the random sample from the binomial distribution\n",
    "random_sample = np.random.binomial(n=1, p=p, size=n)\n",
    "\n",
    "# Plot a histogram of the results\n",
    "plt.hist(random_sample, bins=2, edgecolor='k', alpha=0.7)\n",
    "plt.title('Histogram of Random Sample from Binomial Distribution')\n",
    "plt.xlabel('Success (1) / Failure (0)')\n",
    "plt.ylabel('Frequency')\n",
    "plt.xticks([0, 1], ['Failure (0)', 'Success (1)'])\n",
    "plt.show()\n"
   ]
  },
  {
   "cell_type": "markdown",
   "id": "d0bf32e5",
   "metadata": {},
   "source": [
    "### Q6. Write a Python function to calculate the cumulative distribution function of a Poisson distribution\n",
    "with given mean at a given point."
   ]
  },
  {
   "cell_type": "code",
   "execution_count": 3,
   "id": "25732f5d",
   "metadata": {},
   "outputs": [
    {
     "name": "stdout",
     "output_type": "stream",
     "text": [
      "CDF at k = 2: 0.42319008112684364\n"
     ]
    }
   ],
   "source": [
    "import math\n",
    "import scipy.stats as stats\n",
    "\n",
    "def calculate_poisson_cdf(k, mean):\n",
    "    \"\"\"\n",
    "    Calculate the Cumulative Distribution Function (CDF) of a Poisson distribution\n",
    "    at a given point.\n",
    "\n",
    "    Parameters:\n",
    "    - k: The point at which to calculate the CDF.\n",
    "    - mean: The mean (λ) of the Poisson distribution.\n",
    "\n",
    "    Returns:\n",
    "    - cdf: The CDF value at the specified point.\n",
    "    \"\"\"\n",
    "    cdf = stats.poisson.cdf(k, mu=mean)\n",
    "    return cdf\n",
    "\n",
    "# Example usage:\n",
    "mean = 3     # Mean (λ) of the Poisson distribution\n",
    "k_value = 2  # Point at which to calculate the CDF\n",
    "\n",
    "cdf_value = calculate_poisson_cdf(k_value, mean)\n",
    "print(f\"CDF at k = {k_value}: {cdf_value}\")\n"
   ]
  },
  {
   "cell_type": "markdown",
   "id": "ff691c7c",
   "metadata": {},
   "source": [
    "### Q7. How Binomial distribution different from Poisson distribution?"
   ]
  },
  {
   "cell_type": "markdown",
   "id": "7a056fbe",
   "metadata": {},
   "source": [
    "The Binomial distribution and the Poisson distribution are both probability distributions used in statistics, but they are different in several key ways:\n",
    "\n",
    "1. **Number of Trials:**\n",
    "   - **Binomial Distribution:** The Binomial distribution is used to model the number of successes (usually denoted as \"k\") in a fixed number of independent Bernoulli trials (usually denoted as \"n\"), where each trial has two possible outcomes: success or failure.\n",
    "   - **Poisson Distribution:** The Poisson distribution is used to model the number of events occurring in a fixed interval of time or space, without specifying the number of trials. It is often applied to situations where events happen randomly in time or space.\n",
    "\n",
    "2. **Nature of Outcomes:**\n",
    "   - **Binomial Distribution:** In the Binomial distribution, each trial results in one of two possible outcomes (e.g., success or failure).\n",
    "   - **Poisson Distribution:** In the Poisson distribution, events occur randomly and independently over time or space, and there is no concept of success or failure.\n",
    "\n",
    "3. **Probability of Success:**\n",
    "   - **Binomial Distribution:** The Binomial distribution requires specifying the probability of success (usually denoted as \"p\") for each trial.\n",
    "   - **Poisson Distribution:** The Poisson distribution does not involve specifying the probability of success. Instead, it uses the rate parameter (usually denoted as \"λ\") to describe the average number of events in the interval.\n",
    "\n",
    "4. **Assumptions:**\n",
    "   - **Binomial Distribution:** Assumes a fixed number of trials (n), independence between trials, and a constant probability of success (p).\n",
    "   - **Poisson Distribution:** Assumes that events occur independently over time or space, and the rate of events (λ) is constant across the interval.\n",
    "\n",
    "5. **Use Cases:**\n",
    "   - **Binomial Distribution:** Often used to model situations where there are a fixed number of trials, such as the number of heads obtained when flipping a coin a fixed number of times.\n",
    "   - **Poisson Distribution:** Used in scenarios where events occur randomly and independently, such as modeling the number of customer arrivals at a store in a fixed time period or the number of phone calls received in a call center in a fixed time interval.\n",
    "\n",
    "6. **Shape:**\n",
    "   - **Binomial Distribution:** The shape of the Binomial distribution depends on both the number of trials (n) and the probability of success (p). It can be skewed or symmetric depending on these parameters.\n",
    "   - **Poisson Distribution:** The Poisson distribution is typically right-skewed and becomes more symmetric as λ increases.\n",
    "\n",
    "In summary, the key differences between the Binomial distribution and the Poisson distribution lie in the number of trials, the nature of outcomes, the probability of success, and the assumptions underlying each distribution. They are used in different scenarios to model different types of random events."
   ]
  },
  {
   "cell_type": "markdown",
   "id": "e644da5e",
   "metadata": {},
   "source": [
    "### Q8. Generate a random sample of size 1000 from a Poisson distribution with mean 5 and calculate the\n",
    "sample mean and variance."
   ]
  },
  {
   "cell_type": "code",
   "execution_count": 4,
   "id": "9aeb8fbf",
   "metadata": {},
   "outputs": [
    {
     "name": "stdout",
     "output_type": "stream",
     "text": [
      "Sample Mean: 4.925\n",
      "Sample Variance: 5.021375\n"
     ]
    }
   ],
   "source": [
    "import numpy as np\n",
    "\n",
    "# Parameters\n",
    "sample_size = 1000\n",
    "mean = 5\n",
    "\n",
    "# Generate the random sample from a Poisson distribution\n",
    "random_sample = np.random.poisson(mean, size=sample_size)\n",
    "\n",
    "# Calculate the sample mean and variance\n",
    "sample_mean = np.mean(random_sample)\n",
    "sample_variance = np.var(random_sample)\n",
    "\n",
    "# Print the results\n",
    "print(f\"Sample Mean: {sample_mean}\")\n",
    "print(f\"Sample Variance: {sample_variance}\")\n"
   ]
  },
  {
   "cell_type": "markdown",
   "id": "e8c8af88",
   "metadata": {},
   "source": [
    "### Q9. How mean and variance are related in Binomial distribution and Poisson distribution?"
   ]
  },
  {
   "cell_type": "markdown",
   "id": "6eadc594",
   "metadata": {},
   "source": [
    "Mean and variance are related in both the Binomial distribution and the Poisson distribution, but the nature of their relationship differs between these two distributions:\n",
    "\n",
    "**Binomial Distribution:**\n",
    "In the Binomial distribution, the mean (μ) and variance (σ^2) are related as follows:\n",
    "\n",
    "- Mean (μ) of a Binomial distribution with parameters n (number of trials) and p (probability of success in each trial) is given by: μ = np\n",
    "\n",
    "- Variance (σ^2) of the same Binomial distribution is given by: σ^2 = npq\n",
    "\n",
    "Where:\n",
    "- n is the number of trials.\n",
    "- p is the probability of success in each trial.\n",
    "- q is the probability of failure in each trial (q = 1 - p).\n",
    "\n",
    "In summary, the variance of a Binomial distribution is equal to the product of the number of trials (n), the probability of success (p), and the probability of failure (q). As the probability of success or failure changes, the variance will also change.\n",
    "\n",
    "**Poisson Distribution:**\n",
    "In the Poisson distribution, the mean (λ) and variance (σ^2) are related as follows:\n",
    "\n",
    "- Mean (λ) of a Poisson distribution is equal to its variance: λ = σ^2\n",
    "\n",
    "In the Poisson distribution, the mean and variance are equal and are both equal to the rate parameter (λ), which represents the average number of events occurring in a fixed interval of time or space.\n",
    "\n",
    "In summary, the mean and variance of a Poisson distribution are the same and are both equal to the rate parameter (λ). This property is a characteristic feature of the Poisson distribution and distinguishes it from the Binomial distribution, where the variance depends on both the number of trials and the probability of success."
   ]
  },
  {
   "cell_type": "markdown",
   "id": "e3968d21",
   "metadata": {},
   "source": [
    "### Q10. In normal distribution with respect to mean position, where does the least frequent data appear?"
   ]
  },
  {
   "cell_type": "markdown",
   "id": "3dc9ad07",
   "metadata": {},
   "source": [
    "In a normal distribution (also known as a Gaussian distribution), which is a symmetric probability distribution, the least frequent data points appear in the tails of the distribution, farthest away from the mean. The tails of the distribution represent the extreme values or outliers, and they occur with much lower frequency compared to data points near the mean.\n",
    "\n",
    "Specifically:\n",
    "\n",
    "1. The data points in the **left tail** of the normal distribution are smaller than the mean (μ). These data points represent values that are significantly below the average, and they occur less frequently as you move further to the left of the mean.\n",
    "\n",
    "2. The data points in the **right tail** of the normal distribution are larger than the mean (μ). These data points represent values that are significantly above the average, and they also occur less frequently as you move further to the right of the mean.\n",
    "\n",
    "The majority of the data, where it is most densely populated, is concentrated around the mean in the central part of the distribution. As you move away from the mean in either direction, the data becomes less frequent, and the tails of the distribution become thinner.\n",
    "\n",
    "In a standard normal distribution (with mean μ = 0 and standard deviation σ = 1), approximately 68% of the data falls within one standard deviation of the mean, about 95% falls within two standard deviations, and approximately 99.7% falls within three standard deviations. The remaining data points, representing the tails, are the least frequent and correspond to extreme values."
   ]
  },
  {
   "cell_type": "code",
   "execution_count": null,
   "id": "25d04fb7",
   "metadata": {},
   "outputs": [],
   "source": []
  }
 ],
 "metadata": {
  "kernelspec": {
   "display_name": "Python 3 (ipykernel)",
   "language": "python",
   "name": "python3"
  },
  "language_info": {
   "codemirror_mode": {
    "name": "ipython",
    "version": 3
   },
   "file_extension": ".py",
   "mimetype": "text/x-python",
   "name": "python",
   "nbconvert_exporter": "python",
   "pygments_lexer": "ipython3",
   "version": "3.10.9"
  }
 },
 "nbformat": 4,
 "nbformat_minor": 5
}

{
 "cells": [
  {
   "cell_type": "markdown",
   "id": "b10fae9e-1f7b-4e48-91d9-3a192ab767f3",
   "metadata": {},
   "source": [
    "q1) what is multithreading in python? hy is it used? Name the module used to handle threads in python"
   ]
  },
  {
   "cell_type": "raw",
   "id": "cf3c14a4-5711-4c9d-beba-ef57514292af",
   "metadata": {},
   "source": [
    "Multithreading in Python refers to the ability of a program to execute multiple threads concurrently within a single process. A thread is a lightweight subprocess that can perform tasks independently. Multithreading allows different parts of a program to execute concurrently, potentially improving the overall performance and responsiveness of the application.\n",
    "\n",
    "In Python, multithreading is commonly used for tasks that involve input/output (I/O) operations, such as network requests or reading from/writing to files. By using multiple threads, these tasks can be performed concurrently, allowing the program to make efficient use of system resources and reducing the time spent waiting for I/O operations to complete.\n",
    "\n",
    "Python provides a built-in module called `threading` to handle threads. The `threading` module provides a high-level interface for creating, managing, and synchronizing threads. It abstracts away many low-level details and provides useful features such as thread creation, synchronization primitives like locks and semaphores, and thread-safe data structures. The `threading` module is part of Python's standard library, so it is available by default when you install Python."
   ]
  },
  {
   "cell_type": "markdown",
   "id": "d5bbb442-37a6-4d79-93b0-e631b5cd8c19",
   "metadata": {},
   "source": [
    "q2)why threading module used? write the use of the following functions\n",
    "( activeCount\n",
    " currentThread\n",
    " enumerate)"
   ]
  },
  {
   "cell_type": "raw",
   "id": "2c1ba881-ca65-40cc-980b-cf27beb3650d",
   "metadata": {},
   "source": [
    "The threading module in Python is used to handle threads and provides a high-level interface for creating, managing, and synchronizing threads. It allows you to write concurrent programs that can execute multiple tasks concurrently, improving performance and responsiveness. The module provides various functions and classes to facilitate thread management and synchronization.\n",
    "\n",
    "Here are the uses of the following functions in the threading module:\n",
    "\n",
    "activeCount(): This function is used to obtain the number of currently active Thread objects in the program. It returns the count of Thread objects that are currently alive and executing. It is helpful for monitoring the number of active threads in the program.\n",
    "\n",
    "currentThread(): This function returns the Thread object corresponding to the current thread. It is useful when you want to access or manipulate properties of the current thread, such as its name or identification number.\n",
    "\n",
    "enumerate(): The enumerate() function returns a list of all Thread objects currently alive. It provides a way to obtain a list of all active threads in the program, which can be useful for monitoring or manipulating multiple threads simultaneously."
   ]
  },
  {
   "cell_type": "code",
   "execution_count": 1,
   "id": "7867041d-6c87-4e6b-97eb-a89bad05d7eb",
   "metadata": {},
   "outputs": [
    {
     "name": "stdout",
     "output_type": "stream",
     "text": [
      "Active thread count: 8\n",
      "Current thread: <_MainThread(MainThread, started 139879689766720)>\n",
      "Enumerating threads:\n",
      "<_MainThread(MainThread, started 139879689766720)>\n",
      "<Thread(IOPub, started daemon 139879619237440)>\n",
      "<Heartbeat(Heartbeat, started daemon 139879610844736)>\n",
      "<Thread(Thread-3 (_watch_pipe_fd), started daemon 139879585666624)>\n",
      "<Thread(Thread-4 (_watch_pipe_fd), started daemon 139879577273920)>\n",
      "<ControlThread(Control, started daemon 139879233091136)>\n",
      "<HistorySavingThread(IPythonHistorySavingThread, started 139879224698432)>\n",
      "<ParentPollerUnix(Thread-2, started daemon 139879215257152)>\n",
      "Thread function\n"
     ]
    },
    {
     "name": "stderr",
     "output_type": "stream",
     "text": [
      "/tmp/ipykernel_77/2382227702.py:7: DeprecationWarning: activeCount() is deprecated, use active_count() instead\n",
      "  print(\"Active thread count:\", threading.activeCount())\n",
      "/tmp/ipykernel_77/2382227702.py:9: DeprecationWarning: currentThread() is deprecated, use current_thread() instead\n",
      "  current_thread = threading.currentThread()\n"
     ]
    }
   ],
   "source": [
    "import threading\n",
    "\n",
    "def my_function():\n",
    "    print(\"Thread function\")\n",
    "\n",
    "def main():\n",
    "    print(\"Active thread count:\", threading.activeCount())\n",
    "\n",
    "    current_thread = threading.currentThread()\n",
    "    print(\"Current thread:\", current_thread)\n",
    "\n",
    "    threads = threading.enumerate()\n",
    "    print(\"Enumerating threads:\")\n",
    "    for thread in threads:\n",
    "        print(thread)\n",
    "\n",
    "    # Create and start a new thread\n",
    "    thread = threading.Thread(target=my_function)\n",
    "    thread.start()\n",
    "\n",
    "if __name__ == '__main__':\n",
    "    main()\n"
   ]
  },
  {
   "cell_type": "markdown",
   "id": "bd57a914-fd36-448f-b642-2c2a6fbca088",
   "metadata": {},
   "source": [
    "3. Explain the following functions\n",
    "( run\n",
    " start\n",
    " join\n",
    "' isAlive)"
   ]
  },
  {
   "cell_type": "raw",
   "id": "467fcfeb-ad35-4dee-b381-5050ba41e27f",
   "metadata": {},
   "source": [
    "Here are explanations of the following functions in the threading module:\n",
    "\n",
    "run(): The run() function is not directly called by the programmer. It is the method that contains the code to be executed by a thread. When a Thread object is created and started using the start() method, it internally calls the run() method of that thread. You can override the run() method in a subclass of Thread to define the code that will be executed in that thread.\n",
    "\n",
    "start(): The start() method is used to start a new thread and begin its execution. It creates a new thread of control and calls the run() method of the Thread object. When the start() method is called, the new thread is created and scheduled to run by the Python interpreter. It is important to note that the start() method should only be called once per Thread object.\n",
    "\n",
    "join(): The join() method is used to wait for a thread to complete its execution. When a Thread object's join() method is called, the calling thread (usually the main thread) will be blocked until the target thread (the thread on which join() is called) finishes executing. This is useful when you want to ensure that all threads complete their execution before proceeding further in the program.\n",
    "\n",
    "isAlive(): The isAlive() method is used to check whether a thread is currently executing or alive. It returns a Boolean value indicating the thread's status. If the thread is currently running, it returns True; otherwise, it returns False. This method can be useful for checking the status of a thread and making decisions based on whether it is still active."
   ]
  },
  {
   "cell_type": "raw",
   "id": "778dbf19-c615-42e4-9d13-7006a10c3393",
   "metadata": {},
   "source": [
    "4. write a python program to create two threads. Thread one must print the list of squares and thread\n",
    "two must print the list of cubes"
   ]
  },
  {
   "cell_type": "code",
   "execution_count": 3,
   "id": "a78c9d8d-317b-49fa-85ef-30929bc840f8",
   "metadata": {},
   "outputs": [
    {
     "name": "stdout",
     "output_type": "stream",
     "text": [
      "Square of 1: 1\n",
      "Square of 2: 4\n",
      "Square of 3: 9\n",
      "Square of 4: 16\n",
      "Square of 5: 25\n",
      "Square of 6: 36\n",
      "Square of 7: 49\n",
      "Square of 8: 64\n",
      "Square of 9: 81\n",
      "Square of 10: 100\n",
      "Cube of 1: 1\n",
      "Cube of 2: 8\n",
      "Cube of 3: 27\n",
      "Cube of 4: 64\n",
      "Cube of 5: 125\n",
      "Cube of 6: 216\n",
      "Cube of 7: 343\n",
      "Cube of 8: 512\n",
      "Cube of 9: 729\n",
      "Cube of 10: 1000\n",
      "Main thread exiting.\n"
     ]
    }
   ],
   "source": [
    "import threading\n",
    "\n",
    "def print_squares():\n",
    "    for i in range(1, 11):\n",
    "        print(f\"Square of {i}: {i*i}\")\n",
    "\n",
    "def print_cubes():\n",
    "    for i in range(1, 11):\n",
    "        print(f\"Cube of {i}: {i*i*i}\")\n",
    "\n",
    "def main():\n",
    "    thread1 = threading.Thread(target=print_squares)\n",
    "    thread2 = threading.Thread(target=print_cubes)\n",
    "\n",
    "    thread1.start()\n",
    "    thread2.start()\n",
    "\n",
    "    thread1.join()\n",
    "    thread2.join()\n",
    "\n",
    "    print(\"Main thread exiting.\")\n",
    "\n",
    "if __name__ == '__main__':\n",
    "    main()\n"
   ]
  },
  {
   "cell_type": "markdown",
   "id": "e0a238d4-3dcc-48aa-8de3-585cfef5bc33",
   "metadata": {},
   "source": [
    "5. State advantages and disadvantages of multithreading"
   ]
  },
  {
   "cell_type": "code",
   "execution_count": null,
   "id": "9e81585b-e8dd-428b-b041-91d2fe3da535",
   "metadata": {},
   "outputs": [],
   "source": []
  }
 ],
 "metadata": {
  "kernelspec": {
   "display_name": "Python 3 (ipykernel)",
   "language": "python",
   "name": "python3"
  },
  "language_info": {
   "codemirror_mode": {
    "name": "ipython",
    "version": 3
   },
   "file_extension": ".py",
   "mimetype": "text/x-python",
   "name": "python",
   "nbconvert_exporter": "python",
   "pygments_lexer": "ipython3",
   "version": "3.10.8"
  }
 },
 "nbformat": 4,
 "nbformat_minor": 5
}
